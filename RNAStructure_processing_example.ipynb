{
 "cells": [
  {
   "cell_type": "markdown",
   "metadata": {
    "extensions": {
     "jupyter_dashboards": {
      "version": 1,
      "views": {
       "grid_default": {
        "col": 0,
        "height": 4,
        "hidden": false,
        "row": 0,
        "width": 4
       },
       "report_default": {
        "hidden": false
       }
      }
     }
    }
   },
   "source": [
    "# An output example of RNAStructure processing"
   ]
  },
  {
   "cell_type": "code",
   "execution_count": 1,
   "metadata": {
    "collapsed": true,
    "extensions": {
     "jupyter_dashboards": {
      "version": 1,
      "views": {
       "grid_default": {
        "hidden": true
       },
       "report_default": {
        "hidden": true
       }
      }
     }
    }
   },
   "outputs": [],
   "source": [
    "#!/usr/bin/python3\n",
    "\n",
    "import sys\n",
    "from RNAStructure import RNAStructure\n",
    "\n",
    "# input\n",
    "vienna=\"data/hsa-mir-371a:MI0000779:in:none.fold\"\n",
    "rna = RNAStructure(vienna)"
   ]
  },
  {
   "cell_type": "markdown",
   "metadata": {
    "extensions": {
     "jupyter_dashboards": {
      "version": 1,
      "views": {
       "grid_default": {
        "col": 4,
        "height": 4,
        "hidden": false,
        "row": 0,
        "width": 4
       },
       "report_default": {
        "hidden": false
       }
      }
     }
    }
   },
   "source": [
    "### MapToCleave hairpin information"
   ]
  },
  {
   "cell_type": "code",
   "execution_count": 2,
   "metadata": {
    "collapsed": false,
    "extensions": {
     "jupyter_dashboards": {
      "version": 1,
      "views": {
       "grid_default": {
        "col": 8,
        "height": 4,
        "hidden": false,
        "row": 0,
        "width": 4
       },
       "report_default": {
        "hidden": false
       }
      }
     }
    }
   },
   "outputs": [
    {
     "name": "stdout",
     "output_type": "stream",
     "text": [
      "# MapToCleave hairpin identity\n",
      ">hsa-mir-371a:MI0000779:in:none\n"
     ]
    }
   ],
   "source": [
    "print('# MapToCleave hairpin identity')\n",
    "print(rna.name)"
   ]
  },
  {
   "cell_type": "code",
   "execution_count": 3,
   "metadata": {
    "collapsed": false,
    "extensions": {
     "jupyter_dashboards": {
      "version": 1,
      "views": {
       "grid_default": {
        "col": 0,
        "height": 4,
        "hidden": false,
        "row": 4,
        "width": 4
       },
       "report_default": {
        "hidden": false
       }
      }
     }
    }
   },
   "outputs": [
    {
     "name": "stdout",
     "output_type": "stream",
     "text": [
      "# MapToCleave hairpin sequence (118nt)\n",
      "CCGCCUUGCCGCAUCCCCUCAGCCUGUGGCACUCAAACUGUGGGGGCACUUUCUGCUCUCUGGUGAAAGUGCCGCCAUCUUUUGAGUGUUACCGCUUGAGAAGACUCAACCUGCGGAG\n"
     ]
    }
   ],
   "source": [
    "print('# MapToCleave hairpin sequence (118nt)')\n",
    "print(rna.sequence_with_U)"
   ]
  },
  {
   "cell_type": "code",
   "execution_count": 4,
   "metadata": {
    "collapsed": false,
    "extensions": {
     "jupyter_dashboards": {
      "version": 1,
      "views": {
       "grid_default": {
        "col": 4,
        "height": 5,
        "hidden": false,
        "row": 4,
        "width": 4
       },
       "report_default": {
        "hidden": false
       }
      }
     }
    }
   },
   "outputs": [
    {
     "name": "stdout",
     "output_type": "stream",
     "text": [
      "# MapToCleave hairpin secondary structure in dotbracket format\n",
      ".................((((((..((((((((((((..((((.(((((((((.(((....)))))))))))).))))..)))))))))))).)).))))..................\n"
     ]
    }
   ],
   "source": [
    "print('# MapToCleave hairpin secondary structure in dotbracket format')\n",
    "print(rna.dotbracket)"
   ]
  },
  {
   "cell_type": "code",
   "execution_count": 5,
   "metadata": {
    "collapsed": false,
    "extensions": {
     "jupyter_dashboards": {
      "version": 1,
      "views": {
       "grid_default": {
        "col": 8,
        "height": 8,
        "hidden": false,
        "row": 4,
        "width": 4
       },
       "report_default": {
        "hidden": false
       }
      }
     }
    }
   },
   "outputs": [
    {
     "name": "stdout",
     "output_type": "stream",
     "text": [
      "# MapToCleave hairpin secondary structure in text format\n",
      ".CCGCCTTGCCGCATCCC    -  CT            CT    G         T   CT\n",
      "                  CTCA GC  GTGGCACTCAAA  GTGG GGCACTTTC GCT  \n",
      "                  |||| ||  ||||||||||||  |||| ||||||||| |||  \n",
      "                  GAGT CG  CATTGTGAGTTT  TACC CCGTGAAAG TGG  \n",
      "GAGGCGTCCAACTCAGAA    T  -C            TC    G         -   TC\n"
     ]
    }
   ],
   "source": [
    "print('# MapToCleave hairpin secondary structure in text format')\n",
    "for i in rna.structure:\n",
    "    print(i)"
   ]
  },
  {
   "cell_type": "code",
   "execution_count": 6,
   "metadata": {
    "collapsed": false,
    "extensions": {
     "jupyter_dashboards": {
      "version": 1,
      "views": {
       "grid_default": {
        "col": 0,
        "height": 7,
        "hidden": false,
        "row": 8,
        "width": 4
       },
       "report_default": {
        "hidden": false
       }
      }
     }
    }
   },
   "outputs": [
    {
     "name": "stdout",
     "output_type": "stream",
     "text": [
      "# reference hairpin, mature and star information based on miRBase v21\n",
      ".........................GTGGCACTCAAACTGTGGGGGCACTTTCTGCTCTCTGGTGAAAGTGCCGCCATCTTTTGAGTGTTAC.......................... hsa-mir-371a\n",
      "..............................ACTCAAACTGTGGGGGCACT................AAGTGCCGCCATCTTTTGAGTGT............................. hsa-miR-371a-5p hsa-miR-371a-3p\n"
     ]
    }
   ],
   "source": [
    "print('# reference hairpin, mature and star information based on miRBase v21')\n",
    "print(rna.refhairpin)\n",
    "print(rna.refmirna)"
   ]
  },
  {
   "cell_type": "code",
   "execution_count": 7,
   "metadata": {
    "collapsed": false,
    "extensions": {
     "jupyter_dashboards": {
      "version": 1,
      "views": {
       "grid_default": {
        "col": 4,
        "height": 47,
        "hidden": false,
        "row": 9,
        "width": 4
       },
       "report_default": {
        "hidden": false
       }
      }
     }
    }
   },
   "outputs": [
    {
     "name": "stdout",
     "output_type": "stream",
     "text": [
      "# start site of 5p and/or 3p arm identified based on the reads pooled from HEK-293T, NIH-3T3 and MEF transfection samples\n",
      "# the R means reference start site; D means dominant start site; A means alternative start site. The D and A sites are generated based on the mapping profile\n",
      "# the text in bracket means sample;position;read abundance\n",
      ".........................GTGGCACTCAAACTGTGGGGGCACTTTCTGCTCTCTGGTGAAAGTGCCGCCATCTTTTGAGTGTTAC.......................... hsa-mir-371a\n",
      "..............................ACTCAAACTGTGGGGGCACT................AAGTGCCGCCATCTTTTGAGTGT............................. hsa-miR-371a-5p hsa-miR-371a-3p\n",
      "..............................R....................................................................................... (Ref;30;none)\n",
      "..................................................................R................................................... (Ref;66;none)\n",
      "..............................D....................................................................................... (HEK;30;18595)\n",
      "..................................................................A................................................... (HEK;66;385)\n",
      "....................................................................A................................................. (HEK;68;364)\n",
      "...............................A...................................................................................... (HEK;31;270)\n",
      "...................................................................A.................................................. (HEK;67;254)\n",
      ".............................A........................................................................................ (HEK;29;12)\n",
      "......................................................................A............................................... (HEK;70;1)\n",
      "..............................D....................................................................................... (NIH3T3;30;3067)\n",
      "...............................A...................................................................................... (NIH3T3;31;129)\n",
      "..................................................................A................................................... (NIH3T3;66;62)\n",
      "....................................................................A................................................. (NIH3T3;68;39)\n",
      "...................................................................A.................................................. (NIH3T3;67;34)\n",
      "................................A..................................................................................... (NIH3T3;32;1)\n",
      "..............................D....................................................................................... (MEF;30;27)\n"
     ]
    }
   ],
   "source": [
    "print('# start site of 5p and/or 3p arm identified based on the reads pooled from HEK-293T, NIH-3T3 and MEF transfection samples')\n",
    "print('# the R means reference start site; D means dominant start site; A means alternative start site. The D and A sites are generated based on the mapping profile')\n",
    "print('# the text in bracket means sample;position;read abundance')\n",
    "print(rna.refhairpin)\n",
    "print(rna.refmirna)\n",
    "\n",
    "for i in rna.cutposition:\n",
    "    print(i)\n",
    "    "
   ]
  },
  {
   "cell_type": "code",
   "execution_count": 8,
   "metadata": {
    "collapsed": false,
    "extensions": {
     "jupyter_dashboards": {
      "version": 1,
      "views": {
       "grid_default": {
        "col": 8,
        "height": 925,
        "hidden": false,
        "row": 12,
        "width": 4
       },
       "report_default": {
        "hidden": false
       }
      }
     }
    },
    "scrolled": false
   },
   "outputs": [
    {
     "name": "stdout",
     "output_type": "stream",
     "text": [
      ".........................GTGGCACTCAAACTGTGGGGGCACTTTCTGCTCTCTGGTGAAAGTGCCGCCATCTTTTGAGTGTTAC.......................... hsa-mir-371a\n",
      "..............................ACTCAAACTGTGGGGGCACT................AAGTGCCGCCATCTTTTGAGTGT............................. hsa-miR-371a-5p hsa-miR-371a-3p\n",
      "...........CATCCCCTCAGCCTGTGGC........................................................................................ NIH3T3;transfection;NIH3T3_R1_sh-lib_1x_1000ng_NOR;11;30;1\n",
      "..............................ACTCAAACTGTGGGGGCACTTTCT................................................................ NIH3T3;transfection;NIH3T3_R2_sh-lib_1x_200ng_FACS;30;54;6\n",
      "..............................ACTCAAACTGTGGGGGCACTTTCT................................................................ NIH3T3;transfection;NIH3T3_R3_sh-lib_1x_1000ng_NOR;30;54;3\n",
      "..............................ACTCAAACTGTGGGGGCACTTTCT................................................................ NIH3T3;transfection;NIH3T3_R1_sh-lib_1x_1000ng_NOR;30;54;2\n",
      "..............................ACTCAAACTGTGGGGGCACTTTCT................................................................ NIH3T3;transfection;NIH3T3_R1_sh-lib_5x_1000ng_NOR;30;54;1\n",
      "..............................ACTCAAACTGTGGGGGCACTTTCT................................................................ NIH3T3;transfection;NIH3T3_R4_sh-lib_1x_1000ng_NOR;30;54;1\n",
      "..............................ACTCAAACTGTGGGGGCACTTTC................................................................. NIH3T3;transfection;NIH3T3_R3_sh-lib_1x_1000ng_NOR;30;53;25\n",
      "..............................ACTCAAACTGTGGGGGCACTTTC................................................................. NIH3T3;transfection;NIH3T3_R3_sh-lib_2x_1000ng_NOR;30;53;14\n",
      "..............................ACTCAAACTGTGGGGGCACTTTC................................................................. NIH3T3;transfection;NIH3T3_R2_sh-lib_1x_200ng_FACS;30;53;11\n",
      "..............................ACTCAAACTGTGGGGGCACTTTC................................................................. NIH3T3;transfection;NIH3T3_R1_sh-lib_5x_1000ng_NOR;30;53;9\n",
      "..............................ACTCAAACTGTGGGGGCACTTTC................................................................. NIH3T3;transfection;NIH3T3_R2_sh-lib_5x_200ng_NOR;30;53;7\n",
      "..............................ACTCAAACTGTGGGGGCACTTTC................................................................. NIH3T3;transfection;NIH3T3_R2_sh-lib_5x_45ng_FACS;30;53;6\n",
      "..............................ACTCAAACTGTGGGGGCACTTTC................................................................. NIH3T3;transfection;NIH3T3_R1_sh-lib_1x_1000ng_NOR;30;53;5\n",
      "..............................ACTCAAACTGTGGGGGCACTTTC................................................................. NIH3T3;transfection;NIH3T3_R4_sh-lib_1x_1000ng_NOR;30;53;4\n",
      "..............................ACTCAAACTGTGGGGGCACTTTC................................................................. NIH3T3;transfection;NIH3T3_R2_sh-lib_1x_200ng_NOR;30;53;3\n",
      "..............................ACTCAAACTGTGGGGGCACTTTC................................................................. NIH3T3;transfection;NIH3T3_R1_sh-lib_5x_200ng_FACS;30;53;2\n",
      "..............................ACTCAAACTGTGGGGGCACTTTC................................................................. NIH3T3;transfection;NIH3T3_R5_sh-lib_1x_1000ng_NOR;30;53;2\n",
      "..............................ACTCAAACTGTGGGGGCACTTT.................................................................. NIH3T3;transfection;NIH3T3_R3_sh-lib_1x_1000ng_NOR;30;52;70\n",
      "..............................ACTCAAACTGTGGGGGCACTTT.................................................................. NIH3T3;transfection;NIH3T3_R3_sh-lib_2x_1000ng_NOR;30;52;56\n",
      "..............................ACTCAAACTGTGGGGGCACTTT.................................................................. NIH3T3;transfection;NIH3T3_R1_sh-lib_1x_1000ng_NOR;30;52;35\n",
      "..............................ACTCAAACTGTGGGGGCACTTT.................................................................. NIH3T3;transfection;NIH3T3_R1_sh-lib_5x_1000ng_NOR;30;52;19\n",
      "..............................ACTCAAACTGTGGGGGCACTTT.................................................................. NIH3T3;transfection;NIH3T3_R2_sh-lib_5x_45ng_FACS;30;52;16\n",
      "..............................ACTCAAACTGTGGGGGCACTTT.................................................................. NIH3T3;transfection;NIH3T3_R2_sh-lib_5x_200ng_NOR;30;52;13\n",
      "..............................ACTCAAACTGTGGGGGCACTTT.................................................................. NIH3T3;transfection;NIH3T3_R2_sh-lib_1x_200ng_FACS;30;52;12\n",
      "..............................ACTCAAACTGTGGGGGCACTTT.................................................................. NIH3T3;transfection;NIH3T3_R5_sh-lib_1x_1000ng_NOR;30;52;11\n",
      "..............................ACTCAAACTGTGGGGGCACTTT.................................................................. NIH3T3;transfection;NIH3T3_R2_sh-lib_1x_200ng_NOR;30;52;9\n",
      "..............................ACTCAAACTGTGGGGGCACTTT.................................................................. NIH3T3;transfection;NIH3T3_R4_sh-lib_1x_1000ng_NOR;30;52;5\n",
      "..............................ACTCAAACTGTGGGGGCACTTT.................................................................. NIH3T3;transfection;NIH3T3_R1_sh-lib_5x_200ng_FACS;30;52;2\n",
      "..............................ACTCAAACTGTGGGGGCACTT................................................................... NIH3T3;transfection;NIH3T3_R3_sh-lib_1x_1000ng_NOR;30;51;485\n",
      "..............................ACTCAAACTGTGGGGGCACTT................................................................... NIH3T3;transfection;NIH3T3_R3_sh-lib_2x_1000ng_NOR;30;51;335\n",
      "..............................ACTCAAACTGTGGGGGCACTT................................................................... NIH3T3;transfection;NIH3T3_R1_sh-lib_1x_1000ng_NOR;30;51;193\n",
      "..............................ACTCAAACTGTGGGGGCACTT................................................................... NIH3T3;transfection;NIH3T3_R1_sh-lib_5x_1000ng_NOR;30;51;163\n",
      "..............................ACTCAAACTGTGGGGGCACTT................................................................... NIH3T3;transfection;NIH3T3_R2_sh-lib_1x_200ng_FACS;30;51;123\n",
      "..............................ACTCAAACTGTGGGGGCACTT................................................................... NIH3T3;transfection;NIH3T3_R2_sh-lib_5x_45ng_FACS;30;51;122\n",
      "..............................ACTCAAACTGTGGGGGCACTT................................................................... NIH3T3;transfection;NIH3T3_R4_sh-lib_1x_1000ng_NOR;30;51;93\n",
      "..............................ACTCAAACTGTGGGGGCACTT................................................................... NIH3T3;transfection;NIH3T3_R2_sh-lib_5x_200ng_NOR;30;51;89\n",
      "..............................ACTCAAACTGTGGGGGCACTT................................................................... NIH3T3;transfection;NIH3T3_R5_sh-lib_1x_1000ng_NOR;30;51;76\n",
      "..............................ACTCAAACTGTGGGGGCACTT................................................................... NIH3T3;transfection;NIH3T3_R2_sh-lib_1x_200ng_NOR;30;51;51\n",
      "..............................ACTCAAACTGTGGGGGCACTT................................................................... NIH3T3;transfection;NIH3T3_R1_sh-lib_5x_200ng_FACS;30;51;45\n",
      "..............................ACTCAAACTGTGGGGGCACTT................................................................... NIH3T3;transfection;NIH3T3_R1_sh-lib_1x_200ng_FACS;30;51;13\n",
      "..............................ACTCAAACTGTGGGGGCACT.................................................................... NIH3T3;transfection;NIH3T3_R3_sh-lib_1x_1000ng_NOR;30;50;180\n",
      "..............................ACTCAAACTGTGGGGGCACT.................................................................... NIH3T3;transfection;NIH3T3_R3_sh-lib_2x_1000ng_NOR;30;50;139\n",
      "..............................ACTCAAACTGTGGGGGCACT.................................................................... NIH3T3;transfection;NIH3T3_R1_sh-lib_1x_1000ng_NOR;30;50;106\n",
      "..............................ACTCAAACTGTGGGGGCACT.................................................................... NIH3T3;transfection;NIH3T3_R1_sh-lib_5x_1000ng_NOR;30;50;81\n",
      "..............................ACTCAAACTGTGGGGGCACT.................................................................... NIH3T3;transfection;NIH3T3_R5_sh-lib_1x_1000ng_NOR;30;50;56\n",
      "..............................ACTCAAACTGTGGGGGCACT.................................................................... NIH3T3;transfection;NIH3T3_R2_sh-lib_5x_200ng_NOR;30;50;53\n",
      "..............................ACTCAAACTGTGGGGGCACT.................................................................... NIH3T3;transfection;NIH3T3_R4_sh-lib_1x_1000ng_NOR;30;50;53\n",
      "..............................ACTCAAACTGTGGGGGCACT.................................................................... NIH3T3;transfection;NIH3T3_R2_sh-lib_5x_45ng_FACS;30;50;50\n",
      "..............................ACTCAAACTGTGGGGGCACT.................................................................... NIH3T3;transfection;NIH3T3_R2_sh-lib_1x_200ng_FACS;30;50;46\n",
      "..............................ACTCAAACTGTGGGGGCACT.................................................................... NIH3T3;transfection;NIH3T3_R1_sh-lib_5x_200ng_FACS;30;50;25\n",
      "..............................ACTCAAACTGTGGGGGCACT.................................................................... NIH3T3;transfection;NIH3T3_R2_sh-lib_1x_200ng_NOR;30;50;17\n",
      "..............................ACTCAAACTGTGGGGGCACT.................................................................... NIH3T3;transfection;NIH3T3_R1_sh-lib_1x_200ng_FACS;30;50;6\n",
      "..............................ACTCAAACTGTGGGGGCAC..................................................................... NIH3T3;transfection;NIH3T3_R3_sh-lib_1x_1000ng_NOR;30;49;30\n",
      "..............................ACTCAAACTGTGGGGGCAC..................................................................... NIH3T3;transfection;NIH3T3_R2_sh-lib_5x_200ng_NOR;30;49;16\n",
      "..............................ACTCAAACTGTGGGGGCAC..................................................................... NIH3T3;transfection;NIH3T3_R1_sh-lib_5x_1000ng_NOR;30;49;15\n",
      "..............................ACTCAAACTGTGGGGGCAC..................................................................... NIH3T3;transfection;NIH3T3_R1_sh-lib_1x_1000ng_NOR;30;49;14\n",
      "..............................ACTCAAACTGTGGGGGCAC..................................................................... NIH3T3;transfection;NIH3T3_R3_sh-lib_2x_1000ng_NOR;30;49;14\n",
      "..............................ACTCAAACTGTGGGGGCAC..................................................................... NIH3T3;transfection;NIH3T3_R4_sh-lib_1x_1000ng_NOR;30;49;7\n",
      "..............................ACTCAAACTGTGGGGGCAC..................................................................... NIH3T3;transfection;NIH3T3_R5_sh-lib_1x_1000ng_NOR;30;49;6\n",
      "..............................ACTCAAACTGTGGGGGCAC..................................................................... NIH3T3;transfection;NIH3T3_R2_sh-lib_1x_200ng_NOR;30;49;5\n",
      "..............................ACTCAAACTGTGGGGGCAC..................................................................... NIH3T3;transfection;NIH3T3_R2_sh-lib_5x_45ng_FACS;30;49;5\n",
      "..............................ACTCAAACTGTGGGGGCAC..................................................................... NIH3T3;transfection;NIH3T3_R1_sh-lib_5x_200ng_FACS;30;49;4\n",
      "..............................ACTCAAACTGTGGGGGCAC..................................................................... NIH3T3;transfection;NIH3T3_R2_sh-lib_1x_200ng_FACS;30;49;1\n",
      "..............................ACTCAAACTGTGGGGGCA...................................................................... NIH3T3;transfection;NIH3T3_R1_sh-lib_1x_1000ng_NOR;30;48;1\n",
      "...............................CTCAAACTGTGGGGGCACTTTCT................................................................ NIH3T3;transfection;NIH3T3_R3_sh-lib_2x_1000ng_NOR;31;54;3\n",
      "...............................CTCAAACTGTGGGGGCACTTTCT................................................................ NIH3T3;transfection;NIH3T3_R1_sh-lib_1x_1000ng_NOR;31;54;2\n",
      "...............................CTCAAACTGTGGGGGCACTTTCT................................................................ NIH3T3;transfection;NIH3T3_R3_sh-lib_1x_1000ng_NOR;31;54;2\n",
      "...............................CTCAAACTGTGGGGGCACTTTC................................................................. NIH3T3;transfection;NIH3T3_R3_sh-lib_1x_1000ng_NOR;31;53;20\n",
      "...............................CTCAAACTGTGGGGGCACTTTC................................................................. NIH3T3;transfection;NIH3T3_R3_sh-lib_2x_1000ng_NOR;31;53;10\n",
      "...............................CTCAAACTGTGGGGGCACTTTC................................................................. NIH3T3;transfection;NIH3T3_R1_sh-lib_5x_1000ng_NOR;31;53;9\n",
      "...............................CTCAAACTGTGGGGGCACTTTC................................................................. NIH3T3;transfection;NIH3T3_R2_sh-lib_5x_45ng_FACS;31;53;8\n",
      "...............................CTCAAACTGTGGGGGCACTTTC................................................................. NIH3T3;transfection;NIH3T3_R1_sh-lib_1x_1000ng_NOR;31;53;5\n",
      "...............................CTCAAACTGTGGGGGCACTTTC................................................................. NIH3T3;transfection;NIH3T3_R4_sh-lib_1x_1000ng_NOR;31;53;3\n",
      "...............................CTCAAACTGTGGGGGCACTTTC................................................................. NIH3T3;transfection;NIH3T3_R5_sh-lib_1x_1000ng_NOR;31;53;3\n",
      "...............................CTCAAACTGTGGGGGCACTTTC................................................................. NIH3T3;transfection;NIH3T3_R2_sh-lib_1x_200ng_NOR;31;53;2\n",
      "...............................CTCAAACTGTGGGGGCACTTT.................................................................. NIH3T3;transfection;NIH3T3_R1_sh-lib_1x_1000ng_NOR;31;52;5\n",
      "...............................CTCAAACTGTGGGGGCACTTT.................................................................. NIH3T3;transfection;NIH3T3_R2_sh-lib_1x_200ng_NOR;31;52;4\n",
      "...............................CTCAAACTGTGGGGGCACTTT.................................................................. NIH3T3;transfection;NIH3T3_R3_sh-lib_1x_1000ng_NOR;31;52;4\n",
      "...............................CTCAAACTGTGGGGGCACTTT.................................................................. NIH3T3;transfection;NIH3T3_R1_sh-lib_5x_1000ng_NOR;31;52;3\n",
      "...............................CTCAAACTGTGGGGGCACTTT.................................................................. NIH3T3;transfection;NIH3T3_R2_sh-lib_1x_200ng_FACS;31;52;3\n",
      "...............................CTCAAACTGTGGGGGCACTTT.................................................................. NIH3T3;transfection;NIH3T3_R3_sh-lib_2x_1000ng_NOR;31;52;1\n",
      "...............................CTCAAACTGTGGGGGCACTTT.................................................................. NIH3T3;transfection;NIH3T3_R5_sh-lib_1x_1000ng_NOR;31;52;1\n",
      "...............................CTCAAACTGTGGGGGCACTT................................................................... NIH3T3;transfection;NIH3T3_R3_sh-lib_2x_1000ng_NOR;31;51;7\n",
      "...............................CTCAAACTGTGGGGGCACTT................................................................... NIH3T3;transfection;NIH3T3_R2_sh-lib_1x_200ng_FACS;31;51;6\n",
      "...............................CTCAAACTGTGGGGGCACTT................................................................... NIH3T3;transfection;NIH3T3_R2_sh-lib_5x_200ng_NOR;31;51;6\n",
      "...............................CTCAAACTGTGGGGGCACTT................................................................... NIH3T3;transfection;NIH3T3_R3_sh-lib_1x_1000ng_NOR;31;51;6\n",
      "...............................CTCAAACTGTGGGGGCACTT................................................................... NIH3T3;transfection;NIH3T3_R1_sh-lib_5x_1000ng_NOR;31;51;5\n",
      "...............................CTCAAACTGTGGGGGCACTT................................................................... NIH3T3;transfection;NIH3T3_R4_sh-lib_1x_1000ng_NOR;31;51;3\n",
      "...............................CTCAAACTGTGGGGGCACTT................................................................... NIH3T3;transfection;NIH3T3_R2_sh-lib_5x_45ng_FACS;31;51;2\n",
      "...............................CTCAAACTGTGGGGGCACT.................................................................... NIH3T3;transfection;NIH3T3_R3_sh-lib_1x_1000ng_NOR;31;50;4\n",
      "...............................CTCAAACTGTGGGGGCACT.................................................................... NIH3T3;transfection;NIH3T3_R1_sh-lib_1x_1000ng_NOR;31;50;2\n",
      "................................TCAAACTGTGGGGGCACTTTC................................................................. NIH3T3;transfection;NIH3T3_R5_sh-lib_1x_1000ng_NOR;32;53;1\n",
      "..................................................................AAGTGCCGCCATCTTTTGAGTGT............................. NIH3T3;transfection;NIH3T3_R2_sh-lib_5x_200ng_NOR;66;89;5\n",
      "..................................................................AAGTGCCGCCATCTTTTGAGTGT............................. NIH3T3;transfection;NIH3T3_R1_sh-lib_5x_1000ng_NOR;66;89;4\n",
      "..................................................................AAGTGCCGCCATCTTTTGAGTGT............................. NIH3T3;transfection;NIH3T3_R2_sh-lib_1x_200ng_FACS;66;89;4\n",
      "..................................................................AAGTGCCGCCATCTTTTGAGTGT............................. NIH3T3;transfection;NIH3T3_R4_sh-lib_1x_1000ng_NOR;66;89;4\n",
      "..................................................................AAGTGCCGCCATCTTTTGAGTGT............................. NIH3T3;transfection;NIH3T3_R1_sh-lib_5x_200ng_FACS;66;89;3\n",
      "..................................................................AAGTGCCGCCATCTTTTGAGTGT............................. NIH3T3;transfection;NIH3T3_R3_sh-lib_1x_1000ng_NOR;66;89;3\n",
      "..................................................................AAGTGCCGCCATCTTTTGAGTGT............................. NIH3T3;transfection;NIH3T3_R1_sh-lib_1x_1000ng_NOR;66;89;1\n",
      "..................................................................AAGTGCCGCCATCTTTTGAGTGT............................. NIH3T3;transfection;NIH3T3_R3_sh-lib_2x_1000ng_NOR;66;89;1\n",
      "..................................................................AAGTGCCGCCATCTTTTGAGTG.............................. NIH3T3;transfection;NIH3T3_R2_sh-lib_1x_200ng_FACS;66;88;7\n",
      "..................................................................AAGTGCCGCCATCTTTTGAGTG.............................. NIH3T3;transfection;NIH3T3_R3_sh-lib_1x_1000ng_NOR;66;88;6\n",
      "..................................................................AAGTGCCGCCATCTTTTGAGTG.............................. NIH3T3;transfection;NIH3T3_R2_sh-lib_1x_200ng_NOR;66;88;5\n",
      "..................................................................AAGTGCCGCCATCTTTTGAGTG.............................. NIH3T3;transfection;NIH3T3_R3_sh-lib_2x_1000ng_NOR;66;88;5\n",
      "..................................................................AAGTGCCGCCATCTTTTGAGTG.............................. NIH3T3;transfection;NIH3T3_R2_sh-lib_5x_200ng_NOR;66;88;3\n",
      "..................................................................AAGTGCCGCCATCTTTTGAGTG.............................. NIH3T3;transfection;NIH3T3_R1_sh-lib_1x_1000ng_NOR;66;88;2\n",
      "..................................................................AAGTGCCGCCATCTTTTGAGTG.............................. NIH3T3;transfection;NIH3T3_R1_sh-lib_5x_1000ng_NOR;66;88;2\n",
      "..................................................................AAGTGCCGCCATCTTTTGAGTG.............................. NIH3T3;transfection;NIH3T3_R2_sh-lib_5x_45ng_FACS;66;88;2\n",
      "..................................................................AAGTGCCGCCATCTTTTGAGTG.............................. NIH3T3;transfection;NIH3T3_R4_sh-lib_1x_1000ng_NOR;66;88;2\n",
      "..................................................................AAGTGCCGCCATCTTTTGAGTG.............................. NIH3T3;transfection;NIH3T3_R5_sh-lib_1x_1000ng_NOR;66;88;1\n",
      "..................................................................AAGTGCCGCCATCTTTTGAGT............................... NIH3T3;transfection;NIH3T3_R2_sh-lib_1x_200ng_FACS;66;87;2\n",
      "...................................................................AGTGCCGCCATCTTTTGAGTGT............................. NIH3T3;transfection;NIH3T3_R3_sh-lib_1x_1000ng_NOR;67;89;9\n",
      "...................................................................AGTGCCGCCATCTTTTGAGTGT............................. NIH3T3;transfection;NIH3T3_R1_sh-lib_1x_1000ng_NOR;67;89;4\n",
      "...................................................................AGTGCCGCCATCTTTTGAGTGT............................. NIH3T3;transfection;NIH3T3_R1_sh-lib_5x_1000ng_NOR;67;89;4\n",
      "...................................................................AGTGCCGCCATCTTTTGAGTGT............................. NIH3T3;transfection;NIH3T3_R2_sh-lib_5x_200ng_NOR;67;89;4\n",
      "...................................................................AGTGCCGCCATCTTTTGAGTGT............................. NIH3T3;transfection;NIH3T3_R3_sh-lib_2x_1000ng_NOR;67;89;4\n",
      "...................................................................AGTGCCGCCATCTTTTGAGTGT............................. NIH3T3;transfection;NIH3T3_R1_sh-lib_5x_200ng_FACS;67;89;3\n",
      "...................................................................AGTGCCGCCATCTTTTGAGTGT............................. NIH3T3;transfection;NIH3T3_R1_sh-lib_1x_200ng_FACS;67;89;1\n",
      "...................................................................AGTGCCGCCATCTTTTGAGTGT............................. NIH3T3;transfection;NIH3T3_R4_sh-lib_1x_1000ng_NOR;67;89;1\n",
      "...................................................................AGTGCCGCCATCTTTTGAGTGT............................. NIH3T3;transfection;NIH3T3_R5_sh-lib_1x_1000ng_NOR;67;89;1\n",
      "...................................................................AGTGCCGCCATCTTTTGAGTG.............................. NIH3T3;transfection;NIH3T3_R3_sh-lib_2x_1000ng_NOR;67;88;3\n",
      "....................................................................GTGCCGCCATCTTTTGAGTGT............................. NIH3T3;transfection;NIH3T3_R1_sh-lib_1x_1000ng_NOR;68;89;7\n",
      "....................................................................GTGCCGCCATCTTTTGAGTGT............................. NIH3T3;transfection;NIH3T3_R3_sh-lib_1x_1000ng_NOR;68;89;6\n",
      "....................................................................GTGCCGCCATCTTTTGAGTGT............................. NIH3T3;transfection;NIH3T3_R1_sh-lib_5x_1000ng_NOR;68;89;5\n",
      "....................................................................GTGCCGCCATCTTTTGAGTGT............................. NIH3T3;transfection;NIH3T3_R2_sh-lib_1x_200ng_FACS;68;89;5\n",
      "....................................................................GTGCCGCCATCTTTTGAGTGT............................. NIH3T3;transfection;NIH3T3_R3_sh-lib_2x_1000ng_NOR;68;89;4\n",
      "....................................................................GTGCCGCCATCTTTTGAGTGT............................. NIH3T3;transfection;NIH3T3_R2_sh-lib_5x_200ng_NOR;68;89;3\n",
      "....................................................................GTGCCGCCATCTTTTGAGTGT............................. NIH3T3;transfection;NIH3T3_R2_sh-lib_5x_45ng_FACS;68;89;2\n",
      "....................................................................GTGCCGCCATCTTTTGAGTGT............................. NIH3T3;transfection;NIH3T3_R4_sh-lib_1x_1000ng_NOR;68;89;2\n",
      "....................................................................GTGCCGCCATCTTTTGAGTG.............................. NIH3T3;transfection;NIH3T3_R2_sh-lib_1x_200ng_FACS;68;88;2\n",
      "....................................................................GTGCCGCCATCTTTTGAGTG.............................. NIH3T3;transfection;NIH3T3_R2_sh-lib_5x_45ng_FACS;68;88;2\n",
      "....................................................................GTGCCGCCATCTTTTGAGTG.............................. NIH3T3;transfection;NIH3T3_R4_sh-lib_1x_1000ng_NOR;68;88;1\n",
      "..............................ACTCAAACTGTGGGGGCACTT................................................................... MEF;transfection;MEF_R1_sh-lib_1x_30ng_FACS;30;51;13\n",
      "..............................ACTCAAACTGTGGGGGCACT.................................................................... MEF;transfection;MEF_R1_sh-lib_1x_30ng_FACS;30;50;12\n",
      "..............................ACTCAAACTGTGGGGGCAC..................................................................... MEF;transfection;MEF_R1_sh-lib_1x_30ng_FACS;30;49;2\n",
      "...........CATCCCCTCAGCCTGTGGC........................................................................................ HEK;transfection;HEK_R3_sh-lib_1x_1000ng_NOR;11;30;3\n",
      "...........CATCCCCTCAGCCTGTGGC........................................................................................ HEK;transfection;HEK_R2_sh-lib_1x_1000ng_NOR;11;30;2\n",
      "...........CATCCCCTCAGCCTGTGGC........................................................................................ HEK;transfection;HEK_R4_sh-lib_1x_1000ng_NOR;11;30;2\n",
      "...........CATCCCCTCAGCCTGTGGC........................................................................................ HEK;transfection;HEK_R2_sh-lib_10x_1000ng_NOR;11;30;1\n",
      ".............................CACTCAAACTGTGGGGGCACTTTC................................................................. HEK;transfection;HEK_R2_sh-lib_1x_1000ng_NOR;29;53;1\n",
      ".............................CACTCAAACTGTGGGGGCACTT................................................................... HEK;transfection;HEK_R1_sh-lib_10x_1000ng_NOR;29;51;2\n",
      ".............................CACTCAAACTGTGGGGGCACTT................................................................... HEK;transfection;HEK_R3_sh-lib_1x_1000ng_NOR;29;51;2\n",
      ".............................CACTCAAACTGTGGGGGCACTT................................................................... HEK;transfection;HEK_R3_sh-lib_10x_1000ng_NOR;29;51;1\n",
      ".............................CACTCAAACTGTGGGGGCACTT................................................................... HEK;transfection;HEK_R4_sh-lib_1x_1000ng_NOR;29;51;1\n",
      ".............................CACTCAAACTGTGGGGGCACTT................................................................... HEK;transfection;HEK_R4_sh-lib_5x_1000ng_NOR;29;51;1\n",
      ".............................CACTCAAACTGTGGGGGCACT.................................................................... HEK;transfection;HEK_R4_sh-lib_1x_1000ng_NOR;29;50;3\n",
      ".............................CACTCAAACTGTGGGGGCAC..................................................................... HEK;transfection;HEK_R3_sh-lib_1x_1000ng_NOR;29;49;1\n",
      "..............................ACTCAAACTGTGGGGGCACTTTCT................................................................ HEK;transfection;HEK_R4_sh-lib_1x_1000ng_NOR;30;54;23\n",
      "..............................ACTCAAACTGTGGGGGCACTTTCT................................................................ HEK;transfection;HEK_R4_sh-lib_5x_1000ng_NOR;30;54;18\n",
      "..............................ACTCAAACTGTGGGGGCACTTTCT................................................................ HEK;transfection;HEK_R2_sh-lib_1x_1000ng_NOR;30;54;17\n",
      "..............................ACTCAAACTGTGGGGGCACTTTCT................................................................ HEK;transfection;HEK_R3_sh-lib_10x_1000ng_NOR;30;54;12\n",
      "..............................ACTCAAACTGTGGGGGCACTTTCT................................................................ HEK;transfection;HEK_R3_sh-lib_1x_1000ng_NOR;30;54;12\n",
      "..............................ACTCAAACTGTGGGGGCACTTTCT................................................................ HEK;transfection;HEK_R1_sh-lib_1x_1000ng_NOR;30;54;3\n",
      "..............................ACTCAAACTGTGGGGGCACTTTCT................................................................ HEK;transfection;HEK_R2_sh-lib_10x_1000ng_NOR;30;54;1\n",
      "..............................ACTCAAACTGTGGGGGCACTTTCT................................................................ HEK;transfection;HEK_R4_sh-lib_10x_1000ng_NOR;30;54;1\n",
      "..............................ACTCAAACTGTGGGGGCACTTTC................................................................. HEK;transfection;HEK_R4_sh-lib_1x_1000ng_NOR;30;53;116\n",
      "..............................ACTCAAACTGTGGGGGCACTTTC................................................................. HEK;transfection;HEK_R2_sh-lib_1x_1000ng_NOR;30;53;98\n",
      "..............................ACTCAAACTGTGGGGGCACTTTC................................................................. HEK;transfection;HEK_R3_sh-lib_1x_1000ng_NOR;30;53;83\n",
      "..............................ACTCAAACTGTGGGGGCACTTTC................................................................. HEK;transfection;HEK_R4_sh-lib_5x_1000ng_NOR;30;53;77\n",
      "..............................ACTCAAACTGTGGGGGCACTTTC................................................................. HEK;transfection;HEK_R3_sh-lib_10x_1000ng_NOR;30;53;58\n",
      "..............................ACTCAAACTGTGGGGGCACTTTC................................................................. HEK;transfection;HEK_R2_sh-lib_10x_1000ng_NOR;30;53;37\n",
      "..............................ACTCAAACTGTGGGGGCACTTTC................................................................. HEK;transfection;HEK_R1_sh-lib_1x_1000ng_NOR;30;53;36\n",
      "..............................ACTCAAACTGTGGGGGCACTTTC................................................................. HEK;transfection;HEK_R1_sh-lib_10x_1000ng_NOR;30;53;33\n",
      "..............................ACTCAAACTGTGGGGGCACTTTC................................................................. HEK;transfection;HEK_R4_sh-lib_10x_1000ng_NOR;30;53;14\n",
      "..............................ACTCAAACTGTGGGGGCACTTT.................................................................. HEK;transfection;HEK_R2_sh-lib_1x_1000ng_NOR;30;52;301\n",
      "..............................ACTCAAACTGTGGGGGCACTTT.................................................................. HEK;transfection;HEK_R4_sh-lib_1x_1000ng_NOR;30;52;295\n",
      "..............................ACTCAAACTGTGGGGGCACTTT.................................................................. HEK;transfection;HEK_R3_sh-lib_1x_1000ng_NOR;30;52;249\n",
      "..............................ACTCAAACTGTGGGGGCACTTT.................................................................. HEK;transfection;HEK_R4_sh-lib_5x_1000ng_NOR;30;52;209\n",
      "..............................ACTCAAACTGTGGGGGCACTTT.................................................................. HEK;transfection;HEK_R3_sh-lib_10x_1000ng_NOR;30;52;139\n",
      "..............................ACTCAAACTGTGGGGGCACTTT.................................................................. HEK;transfection;HEK_R2_sh-lib_10x_1000ng_NOR;30;52;99\n",
      "..............................ACTCAAACTGTGGGGGCACTTT.................................................................. HEK;transfection;HEK_R1_sh-lib_1x_1000ng_NOR;30;52;84\n",
      "..............................ACTCAAACTGTGGGGGCACTTT.................................................................. HEK;transfection;HEK_R1_sh-lib_10x_1000ng_NOR;30;52;37\n",
      "..............................ACTCAAACTGTGGGGGCACTTT.................................................................. HEK;transfection;HEK_R4_sh-lib_10x_1000ng_NOR;30;52;24\n",
      "..............................ACTCAAACTGTGGGGGCACTT................................................................... HEK;transfection;HEK_R4_sh-lib_1x_1000ng_NOR;30;51;1902\n",
      "..............................ACTCAAACTGTGGGGGCACTT................................................................... HEK;transfection;HEK_R2_sh-lib_1x_1000ng_NOR;30;51;1735\n",
      "..............................ACTCAAACTGTGGGGGCACTT................................................................... HEK;transfection;HEK_R3_sh-lib_1x_1000ng_NOR;30;51;1615\n",
      "..............................ACTCAAACTGTGGGGGCACTT................................................................... HEK;transfection;HEK_R4_sh-lib_5x_1000ng_NOR;30;51;1311\n",
      "..............................ACTCAAACTGTGGGGGCACTT................................................................... HEK;transfection;HEK_R3_sh-lib_10x_1000ng_NOR;30;51;1076\n",
      "..............................ACTCAAACTGTGGGGGCACTT................................................................... HEK;transfection;HEK_R1_sh-lib_1x_1000ng_NOR;30;51;920\n",
      "..............................ACTCAAACTGTGGGGGCACTT................................................................... HEK;transfection;HEK_R2_sh-lib_10x_1000ng_NOR;30;51;604\n",
      "..............................ACTCAAACTGTGGGGGCACTT................................................................... HEK;transfection;HEK_R1_sh-lib_10x_1000ng_NOR;30;51;448\n",
      "..............................ACTCAAACTGTGGGGGCACTT................................................................... HEK;transfection;HEK_R4_sh-lib_10x_1000ng_NOR;30;51;205\n",
      "..............................ACTCAAACTGTGGGGGCACT.................................................................... HEK;transfection;HEK_R2_sh-lib_1x_1000ng_NOR;30;50;1224\n",
      "..............................ACTCAAACTGTGGGGGCACT.................................................................... HEK;transfection;HEK_R4_sh-lib_1x_1000ng_NOR;30;50;1105\n",
      "..............................ACTCAAACTGTGGGGGCACT.................................................................... HEK;transfection;HEK_R3_sh-lib_1x_1000ng_NOR;30;50;994\n",
      "..............................ACTCAAACTGTGGGGGCACT.................................................................... HEK;transfection;HEK_R4_sh-lib_5x_1000ng_NOR;30;50;831\n",
      "..............................ACTCAAACTGTGGGGGCACT.................................................................... HEK;transfection;HEK_R1_sh-lib_1x_1000ng_NOR;30;50;607\n",
      "..............................ACTCAAACTGTGGGGGCACT.................................................................... HEK;transfection;HEK_R3_sh-lib_10x_1000ng_NOR;30;50;549\n",
      "..............................ACTCAAACTGTGGGGGCACT.................................................................... HEK;transfection;HEK_R2_sh-lib_10x_1000ng_NOR;30;50;421\n",
      "..............................ACTCAAACTGTGGGGGCACT.................................................................... HEK;transfection;HEK_R1_sh-lib_10x_1000ng_NOR;30;50;326\n",
      "..............................ACTCAAACTGTGGGGGCACT.................................................................... HEK;transfection;HEK_R4_sh-lib_10x_1000ng_NOR;30;50;127\n",
      "..............................ACTCAAACTGTGGGGGCAC..................................................................... HEK;transfection;HEK_R2_sh-lib_1x_1000ng_NOR;30;49;100\n",
      "..............................ACTCAAACTGTGGGGGCAC..................................................................... HEK;transfection;HEK_R4_sh-lib_1x_1000ng_NOR;30;49;86\n",
      "..............................ACTCAAACTGTGGGGGCAC..................................................................... HEK;transfection;HEK_R3_sh-lib_1x_1000ng_NOR;30;49;84\n",
      "..............................ACTCAAACTGTGGGGGCAC..................................................................... HEK;transfection;HEK_R4_sh-lib_5x_1000ng_NOR;30;49;78\n",
      "..............................ACTCAAACTGTGGGGGCAC..................................................................... HEK;transfection;HEK_R3_sh-lib_10x_1000ng_NOR;30;49;54\n",
      "..............................ACTCAAACTGTGGGGGCAC..................................................................... HEK;transfection;HEK_R1_sh-lib_1x_1000ng_NOR;30;49;43\n",
      "..............................ACTCAAACTGTGGGGGCAC..................................................................... HEK;transfection;HEK_R1_sh-lib_10x_1000ng_NOR;30;49;33\n",
      "..............................ACTCAAACTGTGGGGGCAC..................................................................... HEK;transfection;HEK_R2_sh-lib_10x_1000ng_NOR;30;49;28\n",
      "..............................ACTCAAACTGTGGGGGCAC..................................................................... HEK;transfection;HEK_R4_sh-lib_10x_1000ng_NOR;30;49;12\n",
      "...............................CTCAAACTGTGGGGGCACTTTCT................................................................ HEK;transfection;HEK_R4_sh-lib_1x_1000ng_NOR;31;54;4\n",
      "...............................CTCAAACTGTGGGGGCACTTTCT................................................................ HEK;transfection;HEK_R3_sh-lib_10x_1000ng_NOR;31;54;2\n",
      "...............................CTCAAACTGTGGGGGCACTTTCT................................................................ HEK;transfection;HEK_R2_sh-lib_1x_1000ng_NOR;31;54;1\n",
      "...............................CTCAAACTGTGGGGGCACTTTCT................................................................ HEK;transfection;HEK_R3_sh-lib_1x_1000ng_NOR;31;54;1\n",
      "...............................CTCAAACTGTGGGGGCACTTTCT................................................................ HEK;transfection;HEK_R4_sh-lib_10x_1000ng_NOR;31;54;1\n",
      "...............................CTCAAACTGTGGGGGCACTTTCT................................................................ HEK;transfection;HEK_R4_sh-lib_5x_1000ng_NOR;31;54;1\n",
      "...............................CTCAAACTGTGGGGGCACTTTC................................................................. HEK;transfection;HEK_R4_sh-lib_1x_1000ng_NOR;31;53;33\n",
      "...............................CTCAAACTGTGGGGGCACTTTC................................................................. HEK;transfection;HEK_R3_sh-lib_1x_1000ng_NOR;31;53;27\n",
      "...............................CTCAAACTGTGGGGGCACTTTC................................................................. HEK;transfection;HEK_R2_sh-lib_1x_1000ng_NOR;31;53;24\n",
      "...............................CTCAAACTGTGGGGGCACTTTC................................................................. HEK;transfection;HEK_R4_sh-lib_5x_1000ng_NOR;31;53;17\n",
      "...............................CTCAAACTGTGGGGGCACTTTC................................................................. HEK;transfection;HEK_R3_sh-lib_10x_1000ng_NOR;31;53;10\n",
      "...............................CTCAAACTGTGGGGGCACTTTC................................................................. HEK;transfection;HEK_R2_sh-lib_10x_1000ng_NOR;31;53;9\n",
      "...............................CTCAAACTGTGGGGGCACTTTC................................................................. HEK;transfection;HEK_R1_sh-lib_1x_1000ng_NOR;31;53;7\n",
      "...............................CTCAAACTGTGGGGGCACTTTC................................................................. HEK;transfection;HEK_R1_sh-lib_10x_1000ng_NOR;31;53;2\n",
      "...............................CTCAAACTGTGGGGGCACTTTC................................................................. HEK;transfection;HEK_R4_sh-lib_10x_1000ng_NOR;31;53;2\n",
      "...............................CTCAAACTGTGGGGGCACTTT.................................................................. HEK;transfection;HEK_R4_sh-lib_1x_1000ng_NOR;31;52;12\n",
      "...............................CTCAAACTGTGGGGGCACTTT.................................................................. HEK;transfection;HEK_R2_sh-lib_1x_1000ng_NOR;31;52;8\n",
      "...............................CTCAAACTGTGGGGGCACTTT.................................................................. HEK;transfection;HEK_R3_sh-lib_1x_1000ng_NOR;31;52;7\n",
      "...............................CTCAAACTGTGGGGGCACTTT.................................................................. HEK;transfection;HEK_R3_sh-lib_10x_1000ng_NOR;31;52;5\n",
      "...............................CTCAAACTGTGGGGGCACTTT.................................................................. HEK;transfection;HEK_R4_sh-lib_5x_1000ng_NOR;31;52;5\n",
      "...............................CTCAAACTGTGGGGGCACTTT.................................................................. HEK;transfection;HEK_R2_sh-lib_10x_1000ng_NOR;31;52;3\n",
      "...............................CTCAAACTGTGGGGGCACTTT.................................................................. HEK;transfection;HEK_R1_sh-lib_10x_1000ng_NOR;31;52;2\n",
      "...............................CTCAAACTGTGGGGGCACTTT.................................................................. HEK;transfection;HEK_R1_sh-lib_1x_1000ng_NOR;31;52;2\n",
      "...............................CTCAAACTGTGGGGGCACTTT.................................................................. HEK;transfection;HEK_R4_sh-lib_10x_1000ng_NOR;31;52;1\n",
      "...............................CTCAAACTGTGGGGGCACTT................................................................... HEK;transfection;HEK_R3_sh-lib_1x_1000ng_NOR;31;51;14\n",
      "...............................CTCAAACTGTGGGGGCACTT................................................................... HEK;transfection;HEK_R2_sh-lib_1x_1000ng_NOR;31;51;12\n",
      "...............................CTCAAACTGTGGGGGCACTT................................................................... HEK;transfection;HEK_R4_sh-lib_1x_1000ng_NOR;31;51;11\n",
      "...............................CTCAAACTGTGGGGGCACTT................................................................... HEK;transfection;HEK_R3_sh-lib_10x_1000ng_NOR;31;51;8\n",
      "...............................CTCAAACTGTGGGGGCACTT................................................................... HEK;transfection;HEK_R4_sh-lib_5x_1000ng_NOR;31;51;8\n",
      "...............................CTCAAACTGTGGGGGCACTT................................................................... HEK;transfection;HEK_R1_sh-lib_1x_1000ng_NOR;31;51;4\n",
      "...............................CTCAAACTGTGGGGGCACTT................................................................... HEK;transfection;HEK_R2_sh-lib_10x_1000ng_NOR;31;51;4\n",
      "...............................CTCAAACTGTGGGGGCACTT................................................................... HEK;transfection;HEK_R4_sh-lib_10x_1000ng_NOR;31;51;3\n",
      "...............................CTCAAACTGTGGGGGCACTT................................................................... HEK;transfection;HEK_R1_sh-lib_10x_1000ng_NOR;31;51;1\n",
      "...............................CTCAAACTGTGGGGGCACT.................................................................... HEK;transfection;HEK_R4_sh-lib_1x_1000ng_NOR;31;50;4\n",
      "...............................CTCAAACTGTGGGGGCACT.................................................................... HEK;transfection;HEK_R1_sh-lib_10x_1000ng_NOR;31;50;3\n",
      "...............................CTCAAACTGTGGGGGCACT.................................................................... HEK;transfection;HEK_R2_sh-lib_1x_1000ng_NOR;31;50;3\n",
      "...............................CTCAAACTGTGGGGGCACT.................................................................... HEK;transfection;HEK_R3_sh-lib_1x_1000ng_NOR;31;50;3\n",
      "...............................CTCAAACTGTGGGGGCACT.................................................................... HEK;transfection;HEK_R1_sh-lib_1x_1000ng_NOR;31;50;2\n",
      "...............................CTCAAACTGTGGGGGCACT.................................................................... HEK;transfection;HEK_R2_sh-lib_10x_1000ng_NOR;31;50;2\n",
      "...............................CTCAAACTGTGGGGGCACT.................................................................... HEK;transfection;HEK_R4_sh-lib_5x_1000ng_NOR;31;50;1\n",
      "...............................CTCAAACTGTGGGGGCAC..................................................................... HEK;transfection;HEK_R4_sh-lib_5x_1000ng_NOR;31;49;1\n",
      "..................................................................AAGTGCCGCCATCTTTTGAGTGTT............................ HEK;transfection;HEK_R4_sh-lib_5x_1000ng_NOR;66;90;1\n",
      "..................................................................AAGTGCCGCCATCTTTTGAGTGT............................. HEK;transfection;HEK_R2_sh-lib_1x_1000ng_NOR;66;89;61\n",
      "..................................................................AAGTGCCGCCATCTTTTGAGTGT............................. HEK;transfection;HEK_R4_sh-lib_1x_1000ng_NOR;66;89;50\n",
      "..................................................................AAGTGCCGCCATCTTTTGAGTGT............................. HEK;transfection;HEK_R3_sh-lib_1x_1000ng_NOR;66;89;43\n",
      "..................................................................AAGTGCCGCCATCTTTTGAGTGT............................. HEK;transfection;HEK_R1_sh-lib_1x_1000ng_NOR;66;89;38\n",
      "..................................................................AAGTGCCGCCATCTTTTGAGTGT............................. HEK;transfection;HEK_R4_sh-lib_5x_1000ng_NOR;66;89;23\n",
      "..................................................................AAGTGCCGCCATCTTTTGAGTGT............................. HEK;transfection;HEK_R1_sh-lib_10x_1000ng_NOR;66;89;18\n",
      "..................................................................AAGTGCCGCCATCTTTTGAGTGT............................. HEK;transfection;HEK_R2_sh-lib_10x_1000ng_NOR;66;89;13\n",
      "..................................................................AAGTGCCGCCATCTTTTGAGTGT............................. HEK;transfection;HEK_R3_sh-lib_10x_1000ng_NOR;66;89;5\n",
      "..................................................................AAGTGCCGCCATCTTTTGAGTGT............................. HEK;transfection;HEK_R4_sh-lib_10x_1000ng_NOR;66;89;3\n",
      "..................................................................AAGTGCCGCCATCTTTTGAGTG.............................. HEK;transfection;HEK_R3_sh-lib_1x_1000ng_NOR;66;88;29\n",
      "..................................................................AAGTGCCGCCATCTTTTGAGTG.............................. HEK;transfection;HEK_R4_sh-lib_1x_1000ng_NOR;66;88;28\n",
      "..................................................................AAGTGCCGCCATCTTTTGAGTG.............................. HEK;transfection;HEK_R2_sh-lib_1x_1000ng_NOR;66;88;24\n",
      "..................................................................AAGTGCCGCCATCTTTTGAGTG.............................. HEK;transfection;HEK_R1_sh-lib_1x_1000ng_NOR;66;88;16\n",
      "..................................................................AAGTGCCGCCATCTTTTGAGTG.............................. HEK;transfection;HEK_R3_sh-lib_10x_1000ng_NOR;66;88;9\n",
      "..................................................................AAGTGCCGCCATCTTTTGAGTG.............................. HEK;transfection;HEK_R2_sh-lib_10x_1000ng_NOR;66;88;7\n",
      "..................................................................AAGTGCCGCCATCTTTTGAGTG.............................. HEK;transfection;HEK_R4_sh-lib_5x_1000ng_NOR;66;88;7\n",
      "..................................................................AAGTGCCGCCATCTTTTGAGTG.............................. HEK;transfection;HEK_R1_sh-lib_10x_1000ng_NOR;66;88;6\n",
      "..................................................................AAGTGCCGCCATCTTTTGAGTG.............................. HEK;transfection;HEK_R4_sh-lib_10x_1000ng_NOR;66;88;1\n",
      "..................................................................AAGTGCCGCCATCTTTTGAGT............................... HEK;transfection;HEK_R2_sh-lib_10x_1000ng_NOR;66;87;1\n",
      "..................................................................AAGTGCCGCCATCTTTTGAG................................ HEK;transfection;HEK_R3_sh-lib_1x_1000ng_NOR;66;86;1\n",
      "..................................................................AAGTGCCGCCATCTTTTGAG................................ HEK;transfection;HEK_R4_sh-lib_1x_1000ng_NOR;66;86;1\n",
      "...................................................................AGTGCCGCCATCTTTTGAGTGT............................. HEK;transfection;HEK_R3_sh-lib_1x_1000ng_NOR;67;89;46\n",
      "...................................................................AGTGCCGCCATCTTTTGAGTGT............................. HEK;transfection;HEK_R2_sh-lib_1x_1000ng_NOR;67;89;45\n",
      "...................................................................AGTGCCGCCATCTTTTGAGTGT............................. HEK;transfection;HEK_R4_sh-lib_1x_1000ng_NOR;67;89;38\n",
      "...................................................................AGTGCCGCCATCTTTTGAGTGT............................. HEK;transfection;HEK_R1_sh-lib_1x_1000ng_NOR;67;89;27\n",
      "...................................................................AGTGCCGCCATCTTTTGAGTGT............................. HEK;transfection;HEK_R4_sh-lib_5x_1000ng_NOR;67;89;24\n",
      "...................................................................AGTGCCGCCATCTTTTGAGTGT............................. HEK;transfection;HEK_R3_sh-lib_10x_1000ng_NOR;67;89;17\n",
      "...................................................................AGTGCCGCCATCTTTTGAGTGT............................. HEK;transfection;HEK_R1_sh-lib_10x_1000ng_NOR;67;89;13\n",
      "...................................................................AGTGCCGCCATCTTTTGAGTGT............................. HEK;transfection;HEK_R2_sh-lib_10x_1000ng_NOR;67;89;12\n",
      "...................................................................AGTGCCGCCATCTTTTGAGTGT............................. HEK;transfection;HEK_R4_sh-lib_10x_1000ng_NOR;67;89;4\n",
      "...................................................................AGTGCCGCCATCTTTTGAGTG.............................. HEK;transfection;HEK_R1_sh-lib_1x_1000ng_NOR;67;88;6\n",
      "...................................................................AGTGCCGCCATCTTTTGAGTG.............................. HEK;transfection;HEK_R3_sh-lib_1x_1000ng_NOR;67;88;5\n",
      "...................................................................AGTGCCGCCATCTTTTGAGTG.............................. HEK;transfection;HEK_R2_sh-lib_1x_1000ng_NOR;67;88;4\n",
      "...................................................................AGTGCCGCCATCTTTTGAGTG.............................. HEK;transfection;HEK_R4_sh-lib_1x_1000ng_NOR;67;88;4\n",
      "...................................................................AGTGCCGCCATCTTTTGAGTG.............................. HEK;transfection;HEK_R1_sh-lib_10x_1000ng_NOR;67;88;3\n",
      "...................................................................AGTGCCGCCATCTTTTGAGTG.............................. HEK;transfection;HEK_R3_sh-lib_10x_1000ng_NOR;67;88;2\n",
      "...................................................................AGTGCCGCCATCTTTTGAGTG.............................. HEK;transfection;HEK_R4_sh-lib_5x_1000ng_NOR;67;88;2\n",
      "...................................................................AGTGCCGCCATCTTTTGAGTG.............................. HEK;transfection;HEK_R2_sh-lib_10x_1000ng_NOR;67;88;1\n",
      "...................................................................AGTGCCGCCATCTTTTGAGTG.............................. HEK;transfection;HEK_R4_sh-lib_10x_1000ng_NOR;67;88;1\n",
      "....................................................................GTGCCGCCATCTTTTGAGTGTT............................ HEK;transfection;HEK_R3_sh-lib_1x_1000ng_NOR;68;90;2\n",
      "....................................................................GTGCCGCCATCTTTTGAGTGT............................. HEK;transfection;HEK_R3_sh-lib_1x_1000ng_NOR;68;89;71\n",
      "....................................................................GTGCCGCCATCTTTTGAGTGT............................. HEK;transfection;HEK_R2_sh-lib_1x_1000ng_NOR;68;89;66\n",
      "....................................................................GTGCCGCCATCTTTTGAGTGT............................. HEK;transfection;HEK_R4_sh-lib_1x_1000ng_NOR;68;89;57\n",
      "....................................................................GTGCCGCCATCTTTTGAGTGT............................. HEK;transfection;HEK_R1_sh-lib_1x_1000ng_NOR;68;89;43\n",
      "....................................................................GTGCCGCCATCTTTTGAGTGT............................. HEK;transfection;HEK_R3_sh-lib_10x_1000ng_NOR;68;89;32\n",
      "....................................................................GTGCCGCCATCTTTTGAGTGT............................. HEK;transfection;HEK_R4_sh-lib_5x_1000ng_NOR;68;89;26\n",
      "....................................................................GTGCCGCCATCTTTTGAGTGT............................. HEK;transfection;HEK_R1_sh-lib_10x_1000ng_NOR;68;89;21\n",
      "....................................................................GTGCCGCCATCTTTTGAGTGT............................. HEK;transfection;HEK_R2_sh-lib_10x_1000ng_NOR;68;89;20\n",
      "....................................................................GTGCCGCCATCTTTTGAGTGT............................. HEK;transfection;HEK_R4_sh-lib_10x_1000ng_NOR;68;89;6\n",
      "....................................................................GTGCCGCCATCTTTTGAGTG.............................. HEK;transfection;HEK_R1_sh-lib_1x_1000ng_NOR;68;88;6\n",
      "....................................................................GTGCCGCCATCTTTTGAGTG.............................. HEK;transfection;HEK_R4_sh-lib_1x_1000ng_NOR;68;88;4\n",
      "....................................................................GTGCCGCCATCTTTTGAGTG.............................. HEK;transfection;HEK_R3_sh-lib_10x_1000ng_NOR;68;88;3\n",
      "....................................................................GTGCCGCCATCTTTTGAGTG.............................. HEK;transfection;HEK_R1_sh-lib_10x_1000ng_NOR;68;88;2\n",
      "....................................................................GTGCCGCCATCTTTTGAGTG.............................. HEK;transfection;HEK_R4_sh-lib_5x_1000ng_NOR;68;88;2\n",
      "....................................................................GTGCCGCCATCTTTTGAGTG.............................. HEK;transfection;HEK_R2_sh-lib_10x_1000ng_NOR;68;88;1\n",
      "....................................................................GTGCCGCCATCTTTTGAGTG.............................. HEK;transfection;HEK_R2_sh-lib_1x_1000ng_NOR;68;88;1\n",
      "....................................................................GTGCCGCCATCTTTTGAGTG.............................. HEK;transfection;HEK_R3_sh-lib_1x_1000ng_NOR;68;88;1\n",
      "......................................................................GCCGCCATCTTTTGAGTGT............................. HEK;transfection;HEK_R3_sh-lib_1x_1000ng_NOR;70;89;1\n",
      "..............................ACTCAAACTGTGGGGGCACT.................................................................... HEK;mock;HEK_R3_mock_0x_1000ng_NOR;30;50;1\n"
     ]
    }
   ],
   "source": [
    "print(rna.refhairpin)\n",
    "print(rna.refmirna)\n",
    "for i in rna.mappingprofile_print:\n",
    "    print(i)"
   ]
  },
  {
   "cell_type": "code",
   "execution_count": 9,
   "metadata": {
    "collapsed": false,
    "extensions": {
     "jupyter_dashboards": {
      "version": 1,
      "views": {
       "grid_default": {
        "col": 0,
        "height": 525,
        "hidden": false,
        "row": 15,
        "width": 4
       },
       "report_default": {
        "hidden": false
       }
      }
     }
    },
    "scrolled": false
   },
   "outputs": [
    {
     "name": "stdout",
     "output_type": "stream",
     "text": [
      "# information obtained from the mapping profile\n",
      "# D means mature arm and M means start arm identified based on the mapping profile\n",
      "['AREF_ref_ref_ref_ref_ref_3p_beginning_ref_position', 66]\n",
      "['AREF_ref_ref_ref_ref_ref_3p_end_ref_position', 89]\n",
      "['AREF_ref_ref_ref_ref_ref_5p_beginning_ref_position', 30]\n",
      "['AREF_ref_ref_ref_ref_ref_5p_end_ref_position', 50]\n",
      "['HEK_mock_0x_R3_1000ng_NOR_5p_beginning_D_count', 1]\n",
      "['HEK_mock_0x_R3_1000ng_NOR_5p_beginning_D_position', 30]\n",
      "['HEK_mock_0x_R3_1000ng_NOR_5p_beginning_D_updown5ntcount', (1,)]\n",
      "['HEK_mock_0x_R3_1000ng_NOR_5p_beginning_D_updown5ntposition', (30,)]\n",
      "['HEK_mock_0x_R3_1000ng_NOR_5p_beginningend_D_count', 1]\n",
      "['HEK_mock_0x_R3_1000ng_NOR_5p_end_D_count', 1]\n",
      "['HEK_mock_0x_R3_1000ng_NOR_5p_end_D_position', 50]\n",
      "['HEK_mock_0x_R3_1000ng_NOR_5p_end_D_updown5ntcount', (1,)]\n",
      "['HEK_mock_0x_R3_1000ng_NOR_5p_end_D_updown5ntposition', (50,)]\n",
      "['HEK_mock_0x_R3_1000ng_NOR_all_all_all_count', 1]\n",
      "['HEK_transfection_10x_R1_1000ng_NOR_3p_beginning_M_count', 24]\n",
      "['HEK_transfection_10x_R1_1000ng_NOR_3p_beginning_M_position', 66]\n",
      "['HEK_transfection_10x_R1_1000ng_NOR_3p_beginning_M_updown5ntcount', (24, 16, 23)]\n",
      "['HEK_transfection_10x_R1_1000ng_NOR_3p_beginning_M_updown5ntposition', (66, 67, 68)]\n",
      "['HEK_transfection_10x_R1_1000ng_NOR_3p_beginningend_M_count', 18]\n",
      "['HEK_transfection_10x_R1_1000ng_NOR_3p_end_M_count', 52]\n",
      "['HEK_transfection_10x_R1_1000ng_NOR_3p_end_M_position', 89]\n",
      "['HEK_transfection_10x_R1_1000ng_NOR_3p_end_M_updown5ntcount', (52, 11)]\n",
      "['HEK_transfection_10x_R1_1000ng_NOR_3p_end_M_updown5ntposition', (89, 88)]\n",
      "['HEK_transfection_10x_R1_1000ng_NOR_5p_beginning_D_count', 877]\n",
      "['HEK_transfection_10x_R1_1000ng_NOR_5p_beginning_D_position', 30]\n",
      "['HEK_transfection_10x_R1_1000ng_NOR_5p_beginning_D_updown5ntcount', (2, 877, 8)]\n",
      "['HEK_transfection_10x_R1_1000ng_NOR_5p_beginning_D_updown5ntposition', (29, 30, 31)]\n",
      "['HEK_transfection_10x_R1_1000ng_NOR_5p_beginningend_D_count', 448]\n",
      "['HEK_transfection_10x_R1_1000ng_NOR_5p_end_D_count', 451]\n",
      "['HEK_transfection_10x_R1_1000ng_NOR_5p_end_D_position', 51]\n",
      "['HEK_transfection_10x_R1_1000ng_NOR_5p_end_D_updown5ntcount', (451, 35, 39, 329, 33)]\n",
      "['HEK_transfection_10x_R1_1000ng_NOR_5p_end_D_updown5ntposition', (51, 53, 52, 50, 49)]\n",
      "['HEK_transfection_10x_R1_1000ng_NOR_all_all_all_count', 950]\n",
      "['HEK_transfection_10x_R2_1000ng_NOR_3p_beginning_M_count', 21]\n",
      "['HEK_transfection_10x_R2_1000ng_NOR_3p_beginning_M_position', 66]\n",
      "['HEK_transfection_10x_R2_1000ng_NOR_3p_beginning_M_updown5ntcount', (21, 13, 21)]\n",
      "['HEK_transfection_10x_R2_1000ng_NOR_3p_beginning_M_updown5ntposition', (66, 67, 68)]\n",
      "['HEK_transfection_10x_R2_1000ng_NOR_3p_beginningend_M_count', 13]\n",
      "['HEK_transfection_10x_R2_1000ng_NOR_3p_end_M_count', 45]\n",
      "['HEK_transfection_10x_R2_1000ng_NOR_3p_end_M_position', 89]\n",
      "['HEK_transfection_10x_R2_1000ng_NOR_3p_end_M_updown5ntcount', (45, 9, 1)]\n",
      "['HEK_transfection_10x_R2_1000ng_NOR_3p_end_M_updown5ntposition', (89, 88, 87)]\n",
      "['HEK_transfection_10x_R2_1000ng_NOR_5p_beginning_D_count', 1190]\n",
      "['HEK_transfection_10x_R2_1000ng_NOR_5p_beginning_D_position', 30]\n",
      "['HEK_transfection_10x_R2_1000ng_NOR_5p_beginning_D_updown5ntcount', (1190, 18)]\n",
      "['HEK_transfection_10x_R2_1000ng_NOR_5p_beginning_D_updown5ntposition', (30, 31)]\n",
      "['HEK_transfection_10x_R2_1000ng_NOR_5p_beginningend_D_count', 604]\n",
      "['HEK_transfection_10x_R2_1000ng_NOR_5p_end_D_count', 608]\n",
      "['HEK_transfection_10x_R2_1000ng_NOR_5p_end_D_position', 51]\n",
      "['HEK_transfection_10x_R2_1000ng_NOR_5p_end_D_updown5ntcount', (1, 46, 102, 608, 423, 28)]\n",
      "['HEK_transfection_10x_R2_1000ng_NOR_5p_end_D_updown5ntposition', (54, 53, 52, 51, 50, 49)]\n",
      "['HEK_transfection_10x_R2_1000ng_NOR_all_all_all_count', 1264]\n",
      "['HEK_transfection_10x_R3_1000ng_NOR_3p_beginning_M_count', 35]\n",
      "['HEK_transfection_10x_R3_1000ng_NOR_3p_beginning_M_position', 68]\n",
      "['HEK_transfection_10x_R3_1000ng_NOR_3p_beginning_M_updown5ntcount', (14, 19, 35)]\n",
      "['HEK_transfection_10x_R3_1000ng_NOR_3p_beginning_M_updown5ntposition', (66, 67, 68)]\n",
      "['HEK_transfection_10x_R3_1000ng_NOR_3p_beginningend_M_count', 32]\n",
      "['HEK_transfection_10x_R3_1000ng_NOR_3p_end_M_count', 54]\n",
      "['HEK_transfection_10x_R3_1000ng_NOR_3p_end_M_position', 89]\n",
      "['HEK_transfection_10x_R3_1000ng_NOR_3p_end_M_updown5ntcount', (54, 14)]\n",
      "['HEK_transfection_10x_R3_1000ng_NOR_3p_end_M_updown5ntposition', (89, 88)]\n",
      "['HEK_transfection_10x_R3_1000ng_NOR_5p_beginning_D_count', 1888]\n",
      "['HEK_transfection_10x_R3_1000ng_NOR_5p_beginning_D_position', 30]\n",
      "['HEK_transfection_10x_R3_1000ng_NOR_5p_beginning_D_updown5ntcount', (1, 1888, 25)]\n",
      "['HEK_transfection_10x_R3_1000ng_NOR_5p_beginning_D_updown5ntposition', (29, 30, 31)]\n",
      "['HEK_transfection_10x_R3_1000ng_NOR_5p_beginningend_D_count', 1076]\n",
      "['HEK_transfection_10x_R3_1000ng_NOR_5p_end_D_count', 1085]\n",
      "['HEK_transfection_10x_R3_1000ng_NOR_5p_end_D_position', 51]\n",
      "['HEK_transfection_10x_R3_1000ng_NOR_5p_end_D_updown5ntcount', (1085, 14, 68, 144, 549, 54)]\n",
      "['HEK_transfection_10x_R3_1000ng_NOR_5p_end_D_updown5ntposition', (51, 54, 53, 52, 50, 49)]\n",
      "['HEK_transfection_10x_R3_1000ng_NOR_all_all_all_count', 1982]\n",
      "['HEK_transfection_10x_R4_1000ng_NOR_3p_beginning_M_count', 6]\n",
      "['HEK_transfection_10x_R4_1000ng_NOR_3p_beginning_M_position', 68]\n",
      "['HEK_transfection_10x_R4_1000ng_NOR_3p_beginning_M_updown5ntcount', (4, 5, 6)]\n",
      "['HEK_transfection_10x_R4_1000ng_NOR_3p_beginning_M_updown5ntposition', (66, 67, 68)]\n",
      "['HEK_transfection_10x_R4_1000ng_NOR_3p_beginningend_M_count', 6]\n",
      "['HEK_transfection_10x_R4_1000ng_NOR_3p_end_M_count', 13]\n",
      "['HEK_transfection_10x_R4_1000ng_NOR_3p_end_M_position', 89]\n",
      "['HEK_transfection_10x_R4_1000ng_NOR_3p_end_M_updown5ntcount', (13, 2)]\n",
      "['HEK_transfection_10x_R4_1000ng_NOR_3p_end_M_updown5ntposition', (89, 88)]\n",
      "['HEK_transfection_10x_R4_1000ng_NOR_5p_beginning_D_count', 383]\n",
      "['HEK_transfection_10x_R4_1000ng_NOR_5p_beginning_D_position', 30]\n",
      "['HEK_transfection_10x_R4_1000ng_NOR_5p_beginning_D_updown5ntcount', (383, 7)]\n",
      "['HEK_transfection_10x_R4_1000ng_NOR_5p_beginning_D_updown5ntposition', (30, 31)]\n",
      "['HEK_transfection_10x_R4_1000ng_NOR_5p_beginningend_D_count', 205]\n",
      "['HEK_transfection_10x_R4_1000ng_NOR_5p_end_D_count', 208]\n",
      "['HEK_transfection_10x_R4_1000ng_NOR_5p_end_D_position', 51]\n",
      "['HEK_transfection_10x_R4_1000ng_NOR_5p_end_D_updown5ntcount', (2, 16, 25, 208, 127, 12)]\n",
      "['HEK_transfection_10x_R4_1000ng_NOR_5p_end_D_updown5ntposition', (54, 53, 52, 51, 50, 49)]\n",
      "['HEK_transfection_10x_R4_1000ng_NOR_all_all_all_count', 405]\n",
      "['HEK_transfection_1x_R1_1000ng_NOR_3p_beginning_M_count', 54]\n",
      "['HEK_transfection_1x_R1_1000ng_NOR_3p_beginning_M_position', 66]\n",
      "['HEK_transfection_1x_R1_1000ng_NOR_3p_beginning_M_updown5ntcount', (54, 33, 49)]\n",
      "['HEK_transfection_1x_R1_1000ng_NOR_3p_beginning_M_updown5ntposition', (66, 67, 68)]\n",
      "['HEK_transfection_1x_R1_1000ng_NOR_3p_beginningend_M_count', 38]\n",
      "['HEK_transfection_1x_R1_1000ng_NOR_3p_end_M_count', 108]\n",
      "['HEK_transfection_1x_R1_1000ng_NOR_3p_end_M_position', 89]\n",
      "['HEK_transfection_1x_R1_1000ng_NOR_3p_end_M_updown5ntcount', (108, 28)]\n",
      "['HEK_transfection_1x_R1_1000ng_NOR_3p_end_M_updown5ntposition', (89, 88)]\n",
      "['HEK_transfection_1x_R1_1000ng_NOR_5p_beginning_D_count', 1693]\n",
      "['HEK_transfection_1x_R1_1000ng_NOR_5p_beginning_D_position', 30]\n",
      "['HEK_transfection_1x_R1_1000ng_NOR_5p_beginning_D_updown5ntcount', (1693, 15)]\n",
      "['HEK_transfection_1x_R1_1000ng_NOR_5p_beginning_D_updown5ntposition', (30, 31)]\n",
      "['HEK_transfection_1x_R1_1000ng_NOR_5p_beginningend_D_count', 920]\n",
      "['HEK_transfection_1x_R1_1000ng_NOR_5p_end_D_count', 924]\n",
      "['HEK_transfection_1x_R1_1000ng_NOR_5p_end_D_position', 51]\n",
      "['HEK_transfection_1x_R1_1000ng_NOR_5p_end_D_updown5ntcount', (3, 43, 86, 924, 609, 43)]\n",
      "['HEK_transfection_1x_R1_1000ng_NOR_5p_end_D_updown5ntposition', (54, 53, 52, 51, 50, 49)]\n",
      "['HEK_transfection_1x_R1_1000ng_NOR_all_all_all_count', 1844]\n",
      "['HEK_transfection_1x_R2_1000ng_NOR_3p_beginning_M_count', 85]\n",
      "['HEK_transfection_1x_R2_1000ng_NOR_3p_beginning_M_position', 66]\n",
      "['HEK_transfection_1x_R2_1000ng_NOR_3p_beginning_M_updown5ntcount', (85, 49, 67)]\n",
      "['HEK_transfection_1x_R2_1000ng_NOR_3p_beginning_M_updown5ntposition', (66, 67, 68)]\n",
      "['HEK_transfection_1x_R2_1000ng_NOR_3p_beginningend_M_count', 61]\n",
      "['HEK_transfection_1x_R2_1000ng_NOR_3p_end_M_count', 172]\n",
      "['HEK_transfection_1x_R2_1000ng_NOR_3p_end_M_position', 89]\n",
      "['HEK_transfection_1x_R2_1000ng_NOR_3p_end_M_updown5ntcount', (172, 29)]\n",
      "['HEK_transfection_1x_R2_1000ng_NOR_3p_end_M_updown5ntposition', (89, 88)]\n",
      "['HEK_transfection_1x_R2_1000ng_NOR_5p_beginning_D_count', 3475]\n",
      "['HEK_transfection_1x_R2_1000ng_NOR_5p_beginning_D_position', 30]\n",
      "['HEK_transfection_1x_R2_1000ng_NOR_5p_beginning_D_updown5ntcount', (1, 3475, 48)]\n",
      "['HEK_transfection_1x_R2_1000ng_NOR_5p_beginning_D_updown5ntposition', (29, 30, 31)]\n",
      "['HEK_transfection_1x_R2_1000ng_NOR_5p_beginningend_D_count', 1735]\n",
      "['HEK_transfection_1x_R2_1000ng_NOR_5p_end_D_count', 1747]\n",
      "['HEK_transfection_1x_R2_1000ng_NOR_5p_end_D_position', 51]\n",
      "['HEK_transfection_1x_R2_1000ng_NOR_5p_end_D_updown5ntcount', (123, 18, 309, 1747, 1227, 100)]\n",
      "['HEK_transfection_1x_R2_1000ng_NOR_5p_end_D_updown5ntposition', (53, 54, 52, 51, 50, 49)]\n",
      "['HEK_transfection_1x_R2_1000ng_NOR_all_all_all_count', 3727]\n",
      "['HEK_transfection_1x_R3_1000ng_NOR_3p_beginning_M_count', 74]\n",
      "['HEK_transfection_1x_R3_1000ng_NOR_3p_beginning_M_position', 68]\n",
      "['HEK_transfection_1x_R3_1000ng_NOR_3p_beginning_M_updown5ntcount', (73, 51, 74, 1)]\n",
      "['HEK_transfection_1x_R3_1000ng_NOR_3p_beginning_M_updown5ntposition', (66, 67, 68, 70)]\n",
      "['HEK_transfection_1x_R3_1000ng_NOR_3p_beginningend_M_count', 71]\n",
      "['HEK_transfection_1x_R3_1000ng_NOR_3p_end_M_count', 161]\n",
      "['HEK_transfection_1x_R3_1000ng_NOR_3p_end_M_position', 89]\n",
      "['HEK_transfection_1x_R3_1000ng_NOR_3p_end_M_updown5ntcount', (161, 35, 1, 2)]\n",
      "['HEK_transfection_1x_R3_1000ng_NOR_3p_end_M_updown5ntposition', (89, 88, 86, 90)]\n",
      "['HEK_transfection_1x_R3_1000ng_NOR_5p_beginning_D_count', 3037]\n",
      "['HEK_transfection_1x_R3_1000ng_NOR_5p_beginning_D_position', 30]\n",
      "['HEK_transfection_1x_R3_1000ng_NOR_5p_beginning_D_updown5ntcount', (3, 3037, 52)]\n",
      "['HEK_transfection_1x_R3_1000ng_NOR_5p_beginning_D_updown5ntposition', (29, 30, 31)]\n",
      "['HEK_transfection_1x_R3_1000ng_NOR_5p_beginningend_D_count', 1615]\n",
      "['HEK_transfection_1x_R3_1000ng_NOR_5p_end_D_count', 1631]\n",
      "['HEK_transfection_1x_R3_1000ng_NOR_5p_end_D_position', 51]\n",
      "['HEK_transfection_1x_R3_1000ng_NOR_5p_end_D_updown5ntcount', (1631, 85, 13, 110, 256, 997)]\n",
      "['HEK_transfection_1x_R3_1000ng_NOR_5p_end_D_updown5ntposition', (51, 49, 54, 53, 52, 50)]\n",
      "['HEK_transfection_1x_R3_1000ng_NOR_all_all_all_count', 3294]\n",
      "['HEK_transfection_1x_R4_1000ng_NOR_3p_beginning_M_count', 79]\n",
      "['HEK_transfection_1x_R4_1000ng_NOR_3p_beginning_M_position', 66]\n",
      "['HEK_transfection_1x_R4_1000ng_NOR_3p_beginning_M_updown5ntcount', (79, 42, 61)]\n",
      "['HEK_transfection_1x_R4_1000ng_NOR_3p_beginning_M_updown5ntposition', (66, 67, 68)]\n",
      "['HEK_transfection_1x_R4_1000ng_NOR_3p_beginningend_M_count', 50]\n",
      "['HEK_transfection_1x_R4_1000ng_NOR_3p_end_M_count', 145]\n",
      "['HEK_transfection_1x_R4_1000ng_NOR_3p_end_M_position', 89]\n",
      "['HEK_transfection_1x_R4_1000ng_NOR_3p_end_M_updown5ntcount', (145, 36, 1)]\n",
      "['HEK_transfection_1x_R4_1000ng_NOR_3p_end_M_updown5ntposition', (89, 88, 86)]\n",
      "['HEK_transfection_1x_R4_1000ng_NOR_5p_beginning_D_count', 3527]\n",
      "['HEK_transfection_1x_R4_1000ng_NOR_5p_beginning_D_position', 30]\n",
      "['HEK_transfection_1x_R4_1000ng_NOR_5p_beginning_D_updown5ntcount', (4, 3527, 64)]\n",
      "['HEK_transfection_1x_R4_1000ng_NOR_5p_beginning_D_updown5ntposition', (29, 30, 31)]\n",
      "['HEK_transfection_1x_R4_1000ng_NOR_5p_beginningend_D_count', 1902]\n",
      "['HEK_transfection_1x_R4_1000ng_NOR_5p_end_D_count', 1914]\n",
      "['HEK_transfection_1x_R4_1000ng_NOR_5p_end_D_position', 51]\n",
      "['HEK_transfection_1x_R4_1000ng_NOR_5p_end_D_updown5ntcount', (1914, 1112, 27, 149, 307, 86)]\n",
      "['HEK_transfection_1x_R4_1000ng_NOR_5p_end_D_updown5ntposition', (51, 50, 54, 53, 52, 49)]\n",
      "['HEK_transfection_1x_R4_1000ng_NOR_all_all_all_count', 3779]\n",
      "['HEK_transfection_5x_R4_1000ng_NOR_3p_beginning_M_count', 31]\n",
      "['HEK_transfection_5x_R4_1000ng_NOR_3p_beginning_M_position', 66]\n",
      "['HEK_transfection_5x_R4_1000ng_NOR_3p_beginning_M_updown5ntcount', (31, 26, 28)]\n",
      "['HEK_transfection_5x_R4_1000ng_NOR_3p_beginning_M_updown5ntposition', (66, 67, 68)]\n",
      "['HEK_transfection_5x_R4_1000ng_NOR_3p_beginningend_M_count', 23]\n",
      "['HEK_transfection_5x_R4_1000ng_NOR_3p_end_M_count', 73]\n",
      "['HEK_transfection_5x_R4_1000ng_NOR_3p_end_M_position', 89]\n",
      "['HEK_transfection_5x_R4_1000ng_NOR_3p_end_M_updown5ntcount', (1, 73, 11)]\n",
      "['HEK_transfection_5x_R4_1000ng_NOR_3p_end_M_updown5ntposition', (90, 89, 88)]\n",
      "['HEK_transfection_5x_R4_1000ng_NOR_5p_beginning_D_count', 2524]\n",
      "['HEK_transfection_5x_R4_1000ng_NOR_5p_beginning_D_position', 30]\n",
      "['HEK_transfection_5x_R4_1000ng_NOR_5p_beginning_D_updown5ntcount', (1, 2524, 33)]\n",
      "['HEK_transfection_5x_R4_1000ng_NOR_5p_beginning_D_updown5ntposition', (29, 30, 31)]\n",
      "['HEK_transfection_5x_R4_1000ng_NOR_5p_beginningend_D_count', 1311]\n",
      "['HEK_transfection_5x_R4_1000ng_NOR_5p_end_D_count', 1320]\n",
      "['HEK_transfection_5x_R4_1000ng_NOR_5p_end_D_position', 51]\n",
      "['HEK_transfection_5x_R4_1000ng_NOR_5p_end_D_updown5ntcount', (1320, 19, 94, 214, 832, 79)]\n",
      "['HEK_transfection_5x_R4_1000ng_NOR_5p_end_D_updown5ntposition', (51, 54, 53, 52, 50, 49)]\n",
      "['HEK_transfection_5x_R4_1000ng_NOR_all_all_all_count', 2643]\n",
      "['MEF_transfection_1x_R1_30ng_FACS_5p_beginning_D_count', 27]\n",
      "['MEF_transfection_1x_R1_30ng_FACS_5p_beginning_D_position', 30]\n",
      "['MEF_transfection_1x_R1_30ng_FACS_5p_beginning_D_updown5ntcount', (27,)]\n",
      "['MEF_transfection_1x_R1_30ng_FACS_5p_beginning_D_updown5ntposition', (30,)]\n",
      "['MEF_transfection_1x_R1_30ng_FACS_5p_beginningend_D_count', 13]\n",
      "['MEF_transfection_1x_R1_30ng_FACS_5p_end_D_count', 13]\n",
      "['MEF_transfection_1x_R1_30ng_FACS_5p_end_D_position', 51]\n",
      "['MEF_transfection_1x_R1_30ng_FACS_5p_end_D_updown5ntcount', (13, 12, 2)]\n",
      "['MEF_transfection_1x_R1_30ng_FACS_5p_end_D_updown5ntposition', (51, 50, 49)]\n",
      "['MEF_transfection_1x_R1_30ng_FACS_all_all_all_count', 27]\n",
      "['NIH3T3_transfection_1x_R1_1000ng_NOR_3p_beginning_M_count', 7]\n",
      "['NIH3T3_transfection_1x_R1_1000ng_NOR_3p_beginning_M_position', 68]\n",
      "['NIH3T3_transfection_1x_R1_1000ng_NOR_3p_beginning_M_updown5ntcount', (3, 4, 7)]\n",
      "['NIH3T3_transfection_1x_R1_1000ng_NOR_3p_beginning_M_updown5ntposition', (66, 67, 68)]\n",
      "['NIH3T3_transfection_1x_R1_1000ng_NOR_3p_beginningend_M_count', 7]\n",
      "['NIH3T3_transfection_1x_R1_1000ng_NOR_3p_end_M_count', 12]\n",
      "['NIH3T3_transfection_1x_R1_1000ng_NOR_3p_end_M_position', 89]\n",
      "['NIH3T3_transfection_1x_R1_1000ng_NOR_3p_end_M_updown5ntcount', (12, 2)]\n",
      "['NIH3T3_transfection_1x_R1_1000ng_NOR_3p_end_M_updown5ntposition', (89, 88)]\n",
      "['NIH3T3_transfection_1x_R1_1000ng_NOR_5p_beginning_D_count', 356]\n",
      "['NIH3T3_transfection_1x_R1_1000ng_NOR_5p_beginning_D_position', 30]\n",
      "['NIH3T3_transfection_1x_R1_1000ng_NOR_5p_beginning_D_updown5ntcount', (356, 14)]\n",
      "['NIH3T3_transfection_1x_R1_1000ng_NOR_5p_beginning_D_updown5ntposition', (30, 31)]\n",
      "['NIH3T3_transfection_1x_R1_1000ng_NOR_5p_beginningend_D_count', 193]\n",
      "['NIH3T3_transfection_1x_R1_1000ng_NOR_5p_end_D_count', 193]\n",
      "['NIH3T3_transfection_1x_R1_1000ng_NOR_5p_end_D_position', 51]\n",
      "['NIH3T3_transfection_1x_R1_1000ng_NOR_5p_end_D_updown5ntcount', (4, 10, 40, 193, 108, 14, 1)]\n",
      "['NIH3T3_transfection_1x_R1_1000ng_NOR_5p_end_D_updown5ntposition', (54, 53, 52, 51, 50, 49, 48)]\n",
      "['NIH3T3_transfection_1x_R1_1000ng_NOR_all_all_all_count', 385]\n",
      "['NIH3T3_transfection_1x_R1_200ng_FACS_3p_beginning_M_count', 1]\n",
      "['NIH3T3_transfection_1x_R1_200ng_FACS_3p_beginning_M_position', 67]\n",
      "['NIH3T3_transfection_1x_R1_200ng_FACS_3p_beginning_M_updown5ntcount', (1,)]\n",
      "['NIH3T3_transfection_1x_R1_200ng_FACS_3p_beginning_M_updown5ntposition', (67,)]\n",
      "['NIH3T3_transfection_1x_R1_200ng_FACS_3p_beginningend_M_count', 1]\n",
      "['NIH3T3_transfection_1x_R1_200ng_FACS_3p_end_M_count', 1]\n",
      "['NIH3T3_transfection_1x_R1_200ng_FACS_3p_end_M_position', 89]\n",
      "['NIH3T3_transfection_1x_R1_200ng_FACS_3p_end_M_updown5ntcount', (1,)]\n",
      "['NIH3T3_transfection_1x_R1_200ng_FACS_3p_end_M_updown5ntposition', (89,)]\n",
      "['NIH3T3_transfection_1x_R1_200ng_FACS_5p_beginning_D_count', 19]\n",
      "['NIH3T3_transfection_1x_R1_200ng_FACS_5p_beginning_D_position', 30]\n",
      "['NIH3T3_transfection_1x_R1_200ng_FACS_5p_beginning_D_updown5ntcount', (19,)]\n",
      "['NIH3T3_transfection_1x_R1_200ng_FACS_5p_beginning_D_updown5ntposition', (30,)]\n",
      "['NIH3T3_transfection_1x_R1_200ng_FACS_5p_beginningend_D_count', 13]\n",
      "['NIH3T3_transfection_1x_R1_200ng_FACS_5p_end_D_count', 13]\n",
      "['NIH3T3_transfection_1x_R1_200ng_FACS_5p_end_D_position', 51]\n",
      "['NIH3T3_transfection_1x_R1_200ng_FACS_5p_end_D_updown5ntcount', (13, 6)]\n",
      "['NIH3T3_transfection_1x_R1_200ng_FACS_5p_end_D_updown5ntposition', (51, 50)]\n",
      "['NIH3T3_transfection_1x_R1_200ng_FACS_all_all_all_count', 20]\n",
      "['NIH3T3_transfection_1x_R2_200ng_FACS_3p_beginning_M_count', 13]\n",
      "['NIH3T3_transfection_1x_R2_200ng_FACS_3p_beginning_M_position', 66]\n",
      "['NIH3T3_transfection_1x_R2_200ng_FACS_3p_beginning_M_updown5ntcount', (13, 7)]\n",
      "['NIH3T3_transfection_1x_R2_200ng_FACS_3p_beginning_M_updown5ntposition', (66, 68)]\n",
      "['NIH3T3_transfection_1x_R2_200ng_FACS_3p_beginningend_M_count', 7]\n",
      "['NIH3T3_transfection_1x_R2_200ng_FACS_3p_end_M_count', 9]\n",
      "['NIH3T3_transfection_1x_R2_200ng_FACS_3p_end_M_position', 89]\n",
      "['NIH3T3_transfection_1x_R2_200ng_FACS_3p_end_M_updown5ntcount', (9, 9, 2)]\n",
      "['NIH3T3_transfection_1x_R2_200ng_FACS_3p_end_M_updown5ntposition', (89, 88, 87)]\n",
      "['NIH3T3_transfection_1x_R2_200ng_FACS_5p_beginning_D_count', 199]\n",
      "['NIH3T3_transfection_1x_R2_200ng_FACS_5p_beginning_D_position', 30]\n",
      "['NIH3T3_transfection_1x_R2_200ng_FACS_5p_beginning_D_updown5ntcount', (199, 9)]\n",
      "['NIH3T3_transfection_1x_R2_200ng_FACS_5p_beginning_D_updown5ntposition', (30, 31)]\n",
      "['NIH3T3_transfection_1x_R2_200ng_FACS_5p_beginningend_D_count', 123]\n",
      "['NIH3T3_transfection_1x_R2_200ng_FACS_5p_end_D_count', 129]\n",
      "['NIH3T3_transfection_1x_R2_200ng_FACS_5p_end_D_position', 51]\n",
      "['NIH3T3_transfection_1x_R2_200ng_FACS_5p_end_D_updown5ntcount', (6, 11, 15, 129, 46, 1)]\n",
      "['NIH3T3_transfection_1x_R2_200ng_FACS_5p_end_D_updown5ntposition', (54, 53, 52, 51, 50, 49)]\n",
      "['NIH3T3_transfection_1x_R2_200ng_FACS_all_all_all_count', 228]\n",
      "['NIH3T3_transfection_1x_R2_200ng_NOR_3p_beginning_M_count', 5]\n",
      "['NIH3T3_transfection_1x_R2_200ng_NOR_3p_beginning_M_position', 66]\n",
      "['NIH3T3_transfection_1x_R2_200ng_NOR_3p_beginning_M_updown5ntcount', (5,)]\n",
      "['NIH3T3_transfection_1x_R2_200ng_NOR_3p_beginning_M_updown5ntposition', (66,)]\n",
      "['NIH3T3_transfection_1x_R2_200ng_NOR_3p_beginningend_M_count', 5]\n",
      "['NIH3T3_transfection_1x_R2_200ng_NOR_3p_end_M_count', 5]\n",
      "['NIH3T3_transfection_1x_R2_200ng_NOR_3p_end_M_position', 88]\n",
      "['NIH3T3_transfection_1x_R2_200ng_NOR_3p_end_M_updown5ntcount', (5,)]\n",
      "['NIH3T3_transfection_1x_R2_200ng_NOR_3p_end_M_updown5ntposition', (88,)]\n",
      "['NIH3T3_transfection_1x_R2_200ng_NOR_5p_beginning_D_count', 85]\n",
      "['NIH3T3_transfection_1x_R2_200ng_NOR_5p_beginning_D_position', 30]\n",
      "['NIH3T3_transfection_1x_R2_200ng_NOR_5p_beginning_D_updown5ntcount', (85, 6)]\n",
      "['NIH3T3_transfection_1x_R2_200ng_NOR_5p_beginning_D_updown5ntposition', (30, 31)]\n",
      "['NIH3T3_transfection_1x_R2_200ng_NOR_5p_beginningend_D_count', 51]\n",
      "['NIH3T3_transfection_1x_R2_200ng_NOR_5p_end_D_count', 51]\n",
      "['NIH3T3_transfection_1x_R2_200ng_NOR_5p_end_D_position', 51]\n",
      "['NIH3T3_transfection_1x_R2_200ng_NOR_5p_end_D_updown5ntcount', (5, 13, 51, 17, 5)]\n",
      "['NIH3T3_transfection_1x_R2_200ng_NOR_5p_end_D_updown5ntposition', (53, 52, 51, 50, 49)]\n",
      "['NIH3T3_transfection_1x_R2_200ng_NOR_all_all_all_count', 96]\n",
      "['NIH3T3_transfection_1x_R3_1000ng_NOR_3p_beginning_M_count', 9]\n",
      "['NIH3T3_transfection_1x_R3_1000ng_NOR_3p_beginning_M_position', 66]\n",
      "['NIH3T3_transfection_1x_R3_1000ng_NOR_3p_beginning_M_updown5ntcount', (9, 9, 6)]\n",
      "['NIH3T3_transfection_1x_R3_1000ng_NOR_3p_beginning_M_updown5ntposition', (66, 67, 68)]\n",
      "['NIH3T3_transfection_1x_R3_1000ng_NOR_3p_beginningend_M_count', 6]\n",
      "['NIH3T3_transfection_1x_R3_1000ng_NOR_3p_end_M_count', 18]\n",
      "['NIH3T3_transfection_1x_R3_1000ng_NOR_3p_end_M_position', 89]\n",
      "['NIH3T3_transfection_1x_R3_1000ng_NOR_3p_end_M_updown5ntcount', (18, 6)]\n",
      "['NIH3T3_transfection_1x_R3_1000ng_NOR_3p_end_M_updown5ntposition', (89, 88)]\n",
      "['NIH3T3_transfection_1x_R3_1000ng_NOR_5p_beginning_D_count', 793]\n",
      "['NIH3T3_transfection_1x_R3_1000ng_NOR_5p_beginning_D_position', 30]\n",
      "['NIH3T3_transfection_1x_R3_1000ng_NOR_5p_beginning_D_updown5ntcount', (793, 36)]\n",
      "['NIH3T3_transfection_1x_R3_1000ng_NOR_5p_beginning_D_updown5ntposition', (30, 31)]\n",
      "['NIH3T3_transfection_1x_R3_1000ng_NOR_5p_beginningend_D_count', 485]\n",
      "['NIH3T3_transfection_1x_R3_1000ng_NOR_5p_end_D_count', 491]\n",
      "['NIH3T3_transfection_1x_R3_1000ng_NOR_5p_end_D_position', 51]\n",
      "['NIH3T3_transfection_1x_R3_1000ng_NOR_5p_end_D_updown5ntcount', (5, 45, 74, 491, 184, 30)]\n",
      "['NIH3T3_transfection_1x_R3_1000ng_NOR_5p_end_D_updown5ntposition', (54, 53, 52, 51, 50, 49)]\n",
      "['NIH3T3_transfection_1x_R3_1000ng_NOR_all_all_all_count', 853]\n",
      "['NIH3T3_transfection_1x_R4_1000ng_NOR_3p_beginning_M_count', 6]\n",
      "['NIH3T3_transfection_1x_R4_1000ng_NOR_3p_beginning_M_position', 66]\n",
      "['NIH3T3_transfection_1x_R4_1000ng_NOR_3p_beginning_M_updown5ntcount', (6, 1, 3)]\n",
      "['NIH3T3_transfection_1x_R4_1000ng_NOR_3p_beginning_M_updown5ntposition', (66, 67, 68)]\n",
      "['NIH3T3_transfection_1x_R4_1000ng_NOR_3p_beginningend_M_count', 4]\n",
      "['NIH3T3_transfection_1x_R4_1000ng_NOR_3p_end_M_count', 7]\n",
      "['NIH3T3_transfection_1x_R4_1000ng_NOR_3p_end_M_position', 89]\n",
      "['NIH3T3_transfection_1x_R4_1000ng_NOR_3p_end_M_updown5ntcount', (7, 3)]\n",
      "['NIH3T3_transfection_1x_R4_1000ng_NOR_3p_end_M_updown5ntposition', (89, 88)]\n",
      "['NIH3T3_transfection_1x_R4_1000ng_NOR_5p_beginning_D_count', 163]\n",
      "['NIH3T3_transfection_1x_R4_1000ng_NOR_5p_beginning_D_position', 30]\n",
      "['NIH3T3_transfection_1x_R4_1000ng_NOR_5p_beginning_D_updown5ntcount', (163, 6)]\n",
      "['NIH3T3_transfection_1x_R4_1000ng_NOR_5p_beginning_D_updown5ntposition', (30, 31)]\n",
      "['NIH3T3_transfection_1x_R4_1000ng_NOR_5p_beginningend_D_count', 93]\n",
      "['NIH3T3_transfection_1x_R4_1000ng_NOR_5p_end_D_count', 96]\n",
      "['NIH3T3_transfection_1x_R4_1000ng_NOR_5p_end_D_position', 51]\n",
      "['NIH3T3_transfection_1x_R4_1000ng_NOR_5p_end_D_updown5ntcount', (1, 7, 5, 96, 53, 7)]\n",
      "['NIH3T3_transfection_1x_R4_1000ng_NOR_5p_end_D_updown5ntposition', (54, 53, 52, 51, 50, 49)]\n",
      "['NIH3T3_transfection_1x_R4_1000ng_NOR_all_all_all_count', 179]\n",
      "['NIH3T3_transfection_1x_R5_1000ng_NOR_3p_beginning_M_count', 1]\n",
      "['NIH3T3_transfection_1x_R5_1000ng_NOR_3p_beginning_M_position', 66]\n",
      "['NIH3T3_transfection_1x_R5_1000ng_NOR_3p_beginning_M_updown5ntcount', (1, 1)]\n",
      "['NIH3T3_transfection_1x_R5_1000ng_NOR_3p_beginning_M_updown5ntposition', (66, 67)]\n",
      "['NIH3T3_transfection_1x_R5_1000ng_NOR_3p_beginningend_M_count', 1]\n",
      "['NIH3T3_transfection_1x_R5_1000ng_NOR_3p_end_M_count', 1]\n",
      "['NIH3T3_transfection_1x_R5_1000ng_NOR_3p_end_M_position', 88]\n",
      "['NIH3T3_transfection_1x_R5_1000ng_NOR_3p_end_M_updown5ntcount', (1, 1)]\n",
      "['NIH3T3_transfection_1x_R5_1000ng_NOR_3p_end_M_updown5ntposition', (88, 89)]\n",
      "['NIH3T3_transfection_1x_R5_1000ng_NOR_5p_beginning_D_count', 151]\n",
      "['NIH3T3_transfection_1x_R5_1000ng_NOR_5p_beginning_D_position', 30]\n",
      "['NIH3T3_transfection_1x_R5_1000ng_NOR_5p_beginning_D_updown5ntcount', (151, 4, 1)]\n",
      "['NIH3T3_transfection_1x_R5_1000ng_NOR_5p_beginning_D_updown5ntposition', (30, 31, 32)]\n",
      "['NIH3T3_transfection_1x_R5_1000ng_NOR_5p_beginningend_D_count', 76]\n",
      "['NIH3T3_transfection_1x_R5_1000ng_NOR_5p_end_D_count', 76]\n",
      "['NIH3T3_transfection_1x_R5_1000ng_NOR_5p_end_D_position', 51]\n",
      "['NIH3T3_transfection_1x_R5_1000ng_NOR_5p_end_D_updown5ntcount', (6, 12, 76, 56, 6)]\n",
      "['NIH3T3_transfection_1x_R5_1000ng_NOR_5p_end_D_updown5ntposition', (53, 52, 51, 50, 49)]\n",
      "['NIH3T3_transfection_1x_R5_1000ng_NOR_all_all_all_count', 158]\n",
      "['NIH3T3_transfection_2x_R3_1000ng_NOR_3p_beginning_M_count', 7]\n",
      "['NIH3T3_transfection_2x_R3_1000ng_NOR_3p_beginning_M_position', 67]\n",
      "['NIH3T3_transfection_2x_R3_1000ng_NOR_3p_beginning_M_updown5ntcount', (6, 7, 4)]\n",
      "['NIH3T3_transfection_2x_R3_1000ng_NOR_3p_beginning_M_updown5ntposition', (66, 67, 68)]\n",
      "['NIH3T3_transfection_2x_R3_1000ng_NOR_3p_beginningend_M_count', 4]\n",
      "['NIH3T3_transfection_2x_R3_1000ng_NOR_3p_end_M_count', 9]\n",
      "['NIH3T3_transfection_2x_R3_1000ng_NOR_3p_end_M_position', 89]\n",
      "['NIH3T3_transfection_2x_R3_1000ng_NOR_3p_end_M_updown5ntcount', (9, 8)]\n",
      "['NIH3T3_transfection_2x_R3_1000ng_NOR_3p_end_M_updown5ntposition', (89, 88)]\n",
      "['NIH3T3_transfection_2x_R3_1000ng_NOR_5p_beginning_D_count', 558]\n",
      "['NIH3T3_transfection_2x_R3_1000ng_NOR_5p_beginning_D_position', 30]\n",
      "['NIH3T3_transfection_2x_R3_1000ng_NOR_5p_beginning_D_updown5ntcount', (558, 21)]\n",
      "['NIH3T3_transfection_2x_R3_1000ng_NOR_5p_beginning_D_updown5ntposition', (30, 31)]\n",
      "['NIH3T3_transfection_2x_R3_1000ng_NOR_5p_beginningend_D_count', 335]\n",
      "['NIH3T3_transfection_2x_R3_1000ng_NOR_5p_end_D_count', 342]\n",
      "['NIH3T3_transfection_2x_R3_1000ng_NOR_5p_end_D_position', 51]\n",
      "['NIH3T3_transfection_2x_R3_1000ng_NOR_5p_end_D_updown5ntcount', (24, 57, 342, 139, 14, 3)]\n",
      "['NIH3T3_transfection_2x_R3_1000ng_NOR_5p_end_D_updown5ntposition', (53, 52, 51, 50, 49, 54)]\n",
      "['NIH3T3_transfection_2x_R3_1000ng_NOR_all_all_all_count', 596]\n",
      "['NIH3T3_transfection_5x_R1_1000ng_NOR_3p_beginning_M_count', 6]\n",
      "['NIH3T3_transfection_5x_R1_1000ng_NOR_3p_beginning_M_position', 66]\n",
      "['NIH3T3_transfection_5x_R1_1000ng_NOR_3p_beginning_M_updown5ntcount', (6, 4, 5)]\n",
      "['NIH3T3_transfection_5x_R1_1000ng_NOR_3p_beginning_M_updown5ntposition', (66, 67, 68)]\n",
      "['NIH3T3_transfection_5x_R1_1000ng_NOR_3p_beginningend_M_count', 4]\n",
      "['NIH3T3_transfection_5x_R1_1000ng_NOR_3p_end_M_count', 13]\n",
      "['NIH3T3_transfection_5x_R1_1000ng_NOR_3p_end_M_position', 89]\n",
      "['NIH3T3_transfection_5x_R1_1000ng_NOR_3p_end_M_updown5ntcount', (13, 2)]\n",
      "['NIH3T3_transfection_5x_R1_1000ng_NOR_3p_end_M_updown5ntposition', (89, 88)]\n",
      "['NIH3T3_transfection_5x_R1_1000ng_NOR_5p_beginning_D_count', 288]\n",
      "['NIH3T3_transfection_5x_R1_1000ng_NOR_5p_beginning_D_position', 30]\n",
      "['NIH3T3_transfection_5x_R1_1000ng_NOR_5p_beginning_D_updown5ntcount', (288, 17)]\n",
      "['NIH3T3_transfection_5x_R1_1000ng_NOR_5p_beginning_D_updown5ntposition', (30, 31)]\n",
      "['NIH3T3_transfection_5x_R1_1000ng_NOR_5p_beginningend_D_count', 163]\n",
      "['NIH3T3_transfection_5x_R1_1000ng_NOR_5p_end_D_count', 168]\n",
      "['NIH3T3_transfection_5x_R1_1000ng_NOR_5p_end_D_position', 51]\n",
      "['NIH3T3_transfection_5x_R1_1000ng_NOR_5p_end_D_updown5ntcount', (1, 18, 22, 168, 81, 15)]\n",
      "['NIH3T3_transfection_5x_R1_1000ng_NOR_5p_end_D_updown5ntposition', (54, 53, 52, 51, 50, 49)]\n",
      "['NIH3T3_transfection_5x_R1_1000ng_NOR_all_all_all_count', 320]\n",
      "['NIH3T3_transfection_5x_R1_200ng_FACS_3p_beginning_M_count', 3]\n",
      "['NIH3T3_transfection_5x_R1_200ng_FACS_3p_beginning_M_position', 66]\n",
      "['NIH3T3_transfection_5x_R1_200ng_FACS_3p_beginning_M_updown5ntcount', (3, 3)]\n",
      "['NIH3T3_transfection_5x_R1_200ng_FACS_3p_beginning_M_updown5ntposition', (66, 67)]\n",
      "['NIH3T3_transfection_5x_R1_200ng_FACS_3p_beginningend_M_count', 3]\n",
      "['NIH3T3_transfection_5x_R1_200ng_FACS_3p_end_M_count', 6]\n",
      "['NIH3T3_transfection_5x_R1_200ng_FACS_3p_end_M_position', 89]\n",
      "['NIH3T3_transfection_5x_R1_200ng_FACS_3p_end_M_updown5ntcount', (6,)]\n",
      "['NIH3T3_transfection_5x_R1_200ng_FACS_3p_end_M_updown5ntposition', (89,)]\n",
      "['NIH3T3_transfection_5x_R1_200ng_FACS_5p_beginning_D_count', 78]\n",
      "['NIH3T3_transfection_5x_R1_200ng_FACS_5p_beginning_D_position', 30]\n",
      "['NIH3T3_transfection_5x_R1_200ng_FACS_5p_beginning_D_updown5ntcount', (78,)]\n",
      "['NIH3T3_transfection_5x_R1_200ng_FACS_5p_beginning_D_updown5ntposition', (30,)]\n",
      "['NIH3T3_transfection_5x_R1_200ng_FACS_5p_beginningend_D_count', 45]\n",
      "['NIH3T3_transfection_5x_R1_200ng_FACS_5p_end_D_count', 45]\n",
      "['NIH3T3_transfection_5x_R1_200ng_FACS_5p_end_D_position', 51]\n",
      "['NIH3T3_transfection_5x_R1_200ng_FACS_5p_end_D_updown5ntcount', (2, 2, 45, 25, 4)]\n",
      "['NIH3T3_transfection_5x_R1_200ng_FACS_5p_end_D_updown5ntposition', (53, 52, 51, 50, 49)]\n",
      "['NIH3T3_transfection_5x_R1_200ng_FACS_all_all_all_count', 84]\n",
      "['NIH3T3_transfection_5x_R2_200ng_NOR_3p_beginning_M_count', 8]\n",
      "['NIH3T3_transfection_5x_R2_200ng_NOR_3p_beginning_M_position', 66]\n",
      "['NIH3T3_transfection_5x_R2_200ng_NOR_3p_beginning_M_updown5ntcount', (8, 4, 3)]\n",
      "['NIH3T3_transfection_5x_R2_200ng_NOR_3p_beginning_M_updown5ntposition', (66, 67, 68)]\n",
      "['NIH3T3_transfection_5x_R2_200ng_NOR_3p_beginningend_M_count', 5]\n",
      "['NIH3T3_transfection_5x_R2_200ng_NOR_3p_end_M_count', 12]\n",
      "['NIH3T3_transfection_5x_R2_200ng_NOR_3p_end_M_position', 89]\n",
      "['NIH3T3_transfection_5x_R2_200ng_NOR_3p_end_M_updown5ntcount', (12, 3)]\n",
      "['NIH3T3_transfection_5x_R2_200ng_NOR_3p_end_M_updown5ntposition', (89, 88)]\n",
      "['NIH3T3_transfection_5x_R2_200ng_NOR_5p_beginning_D_count', 178]\n",
      "['NIH3T3_transfection_5x_R2_200ng_NOR_5p_beginning_D_position', 30]\n",
      "['NIH3T3_transfection_5x_R2_200ng_NOR_5p_beginning_D_updown5ntcount', (178, 6)]\n",
      "['NIH3T3_transfection_5x_R2_200ng_NOR_5p_beginning_D_updown5ntposition', (30, 31)]\n",
      "['NIH3T3_transfection_5x_R2_200ng_NOR_5p_beginningend_D_count', 89]\n",
      "['NIH3T3_transfection_5x_R2_200ng_NOR_5p_end_D_count', 95]\n",
      "['NIH3T3_transfection_5x_R2_200ng_NOR_5p_end_D_position', 51]\n",
      "['NIH3T3_transfection_5x_R2_200ng_NOR_5p_end_D_updown5ntcount', (7, 13, 95, 53, 16)]\n",
      "['NIH3T3_transfection_5x_R2_200ng_NOR_5p_end_D_updown5ntposition', (53, 52, 51, 50, 49)]\n",
      "['NIH3T3_transfection_5x_R2_200ng_NOR_all_all_all_count', 199]\n",
      "['NIH3T3_transfection_5x_R2_45ng_FACS_3p_beginning_M_count', 4]\n",
      "['NIH3T3_transfection_5x_R2_45ng_FACS_3p_beginning_M_position', 68]\n",
      "['NIH3T3_transfection_5x_R2_45ng_FACS_3p_beginning_M_updown5ntcount', (2, 4)]\n",
      "['NIH3T3_transfection_5x_R2_45ng_FACS_3p_beginning_M_updown5ntposition', (66, 68)]\n",
      "['NIH3T3_transfection_5x_R2_45ng_FACS_3p_beginningend_M_count', 2]\n",
      "['NIH3T3_transfection_5x_R2_45ng_FACS_3p_end_M_count', 4]\n",
      "['NIH3T3_transfection_5x_R2_45ng_FACS_3p_end_M_position', 88]\n",
      "['NIH3T3_transfection_5x_R2_45ng_FACS_3p_end_M_updown5ntcount', (4, 2)]\n",
      "['NIH3T3_transfection_5x_R2_45ng_FACS_3p_end_M_updown5ntposition', (88, 89)]\n",
      "['NIH3T3_transfection_5x_R2_45ng_FACS_5p_beginning_D_count', 199]\n",
      "['NIH3T3_transfection_5x_R2_45ng_FACS_5p_beginning_D_position', 30]\n",
      "['NIH3T3_transfection_5x_R2_45ng_FACS_5p_beginning_D_updown5ntcount', (199, 10)]\n",
      "['NIH3T3_transfection_5x_R2_45ng_FACS_5p_beginning_D_updown5ntposition', (30, 31)]\n",
      "['NIH3T3_transfection_5x_R2_45ng_FACS_5p_beginningend_D_count', 122]\n",
      "['NIH3T3_transfection_5x_R2_45ng_FACS_5p_end_D_count', 124]\n",
      "['NIH3T3_transfection_5x_R2_45ng_FACS_5p_end_D_position', 51]\n",
      "['NIH3T3_transfection_5x_R2_45ng_FACS_5p_end_D_updown5ntcount', (14, 16, 124, 50, 5)]\n",
      "['NIH3T3_transfection_5x_R2_45ng_FACS_5p_end_D_updown5ntposition', (53, 52, 51, 50, 49)]\n",
      "['NIH3T3_transfection_5x_R2_45ng_FACS_all_all_all_count', 215]\n"
     ]
    }
   ],
   "source": [
    "print('# information obtained from the mapping profile')\n",
    "print('# D means mature arm and M means start arm identified based on the mapping profile')\n",
    "for i in rna.mappingprofile_statistics:\n",
    "    print(i)"
   ]
  }
 ],
 "metadata": {
  "extensions": {
   "jupyter_dashboards": {
    "activeView": "report_default",
    "version": 1,
    "views": {
     "grid_default": {
      "cellMargin": 10,
      "defaultCellHeight": 20,
      "maxColumns": 12,
      "name": "grid",
      "type": "grid"
     },
     "report_default": {
      "name": "report",
      "type": "report"
     }
    }
   }
  },
  "kernelspec": {
   "display_name": "Python 3",
   "language": "python",
   "name": "python3"
  },
  "language_info": {
   "codemirror_mode": {
    "name": "ipython",
    "version": 3
   },
   "file_extension": ".py",
   "mimetype": "text/x-python",
   "name": "python",
   "nbconvert_exporter": "python",
   "pygments_lexer": "ipython3",
   "version": "3.6.8"
  }
 },
 "nbformat": 4,
 "nbformat_minor": 2
}
